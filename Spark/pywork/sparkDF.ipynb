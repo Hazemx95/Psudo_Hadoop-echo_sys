{
 "cells": [
  {
   "cell_type": "code",
   "execution_count": 6,
   "metadata": {
    "scrolled": true
   },
   "outputs": [
    {
     "data": {
      "text/html": [
       "\n",
       "            <div>\n",
       "                <p><b>SparkSession - in-memory</b></p>\n",
       "                \n",
       "        <div>\n",
       "            <p><b>SparkContext</b></p>\n",
       "\n",
       "            <p><a href=\"http://10.255.255.254:4040\">Spark UI</a></p>\n",
       "\n",
       "            <dl>\n",
       "              <dt>Version</dt>\n",
       "                <dd><code>v3.5.3</code></dd>\n",
       "              <dt>Master</dt>\n",
       "                <dd><code>local[*]</code></dd>\n",
       "              <dt>AppName</dt>\n",
       "                <dd><code>pyspark-shell</code></dd>\n",
       "            </dl>\n",
       "        </div>\n",
       "        \n",
       "            </div>\n",
       "        "
      ],
      "text/plain": [
       "<pyspark.sql.session.SparkSession at 0x7f87d4fc5160>"
      ]
     },
     "execution_count": 6,
     "metadata": {},
     "output_type": "execute_result"
    }
   ],
   "source": [
    "spark"
   ]
  },
  {
   "cell_type": "code",
   "execution_count": 7,
   "metadata": {},
   "outputs": [
    {
     "data": {
      "text/html": [
       "\n",
       "        <div>\n",
       "            <p><b>SparkContext</b></p>\n",
       "\n",
       "            <p><a href=\"http://10.255.255.254:4040\">Spark UI</a></p>\n",
       "\n",
       "            <dl>\n",
       "              <dt>Version</dt>\n",
       "                <dd><code>v3.5.3</code></dd>\n",
       "              <dt>Master</dt>\n",
       "                <dd><code>local[*]</code></dd>\n",
       "              <dt>AppName</dt>\n",
       "                <dd><code>pyspark-shell</code></dd>\n",
       "            </dl>\n",
       "        </div>\n",
       "        "
      ],
      "text/plain": [
       "<SparkContext master=local[*] appName=pyspark-shell>"
      ]
     },
     "execution_count": 7,
     "metadata": {},
     "output_type": "execute_result"
    }
   ],
   "source": [
    "sc"
   ]
  },
  {
   "cell_type": "code",
   "execution_count": null,
   "metadata": {},
   "outputs": [],
   "source": [
    "# for windows only to check to spark \n",
    "import findspark\n",
    "findspark.init()"
   ]
  },
  {
   "cell_type": "code",
   "execution_count": 1,
   "metadata": {},
   "outputs": [],
   "source": [
    "from pyspark.sql import SparkSession"
   ]
  },
  {
   "cell_type": "code",
   "execution_count": 2,
   "metadata": {},
   "outputs": [
    {
     "name": "stderr",
     "output_type": "stream",
     "text": [
      "24/09/30 20:59:18 WARN Utils: Your hostname, Hazem. resolves to a loopback address: 127.0.1.1; using 10.255.255.254 instead (on interface lo)\n",
      "24/09/30 20:59:18 WARN Utils: Set SPARK_LOCAL_IP if you need to bind to another address\n",
      "Setting default log level to \"WARN\".\n",
      "To adjust logging level use sc.setLogLevel(newLevel). For SparkR, use setLogLevel(newLevel).\n",
      "24/09/30 20:59:19 WARN NativeCodeLoader: Unable to load native-hadoop library for your platform... using builtin-java classes where applicable\n"
     ]
    }
   ],
   "source": [
    "spark = SparkSession.builder.getOrCreate() "
   ]
  },
  {
   "cell_type": "code",
   "execution_count": 3,
   "metadata": {},
   "outputs": [],
   "source": [
    "sc = spark.sparkContext\n"
   ]
  },
  {
   "cell_type": "code",
   "execution_count": 4,
   "metadata": {},
   "outputs": [],
   "source": [
    "dataRDD = sc.parallelize([(\"Brook\" , 20) , (\"Deeby\" , 30) , (\"Jully\",40) , (\"TX\" , 20)  ,(\"Brook\" ,50) ,  (\"Tx\" ,10) , (\"Deeby\" ,60)] )"
   ]
  },
  {
   "cell_type": "code",
   "execution_count": 5,
   "metadata": {},
   "outputs": [
    {
     "data": {
      "text/plain": [
       "ParallelCollectionRDD[0] at readRDDFromFile at PythonRDD.scala:289"
      ]
     },
     "execution_count": 5,
     "metadata": {},
     "output_type": "execute_result"
    }
   ],
   "source": [
    "dataRDD"
   ]
  },
  {
   "cell_type": "code",
   "execution_count": 8,
   "metadata": {},
   "outputs": [
    {
     "name": "stderr",
     "output_type": "stream",
     "text": [
      "\r",
      "[Stage 0:>                                                          (0 + 8) / 8]\r",
      "\r",
      "                                                                                \r"
     ]
    },
    {
     "data": {
      "text/plain": [
       "[('Brook', 20),\n",
       " ('Deeby', 30),\n",
       " ('Jully', 40),\n",
       " ('TX', 20),\n",
       " ('Brook', 50),\n",
       " ('Tx', 10),\n",
       " ('Deeby', 60)]"
      ]
     },
     "execution_count": 8,
     "metadata": {},
     "output_type": "execute_result"
    }
   ],
   "source": [
    "dataRDD.collect()"
   ]
  },
  {
   "cell_type": "code",
   "execution_count": 9,
   "metadata": {},
   "outputs": [],
   "source": [
    "data_f = spark.createDataFrame([(\"Brook\" , 20) , (\"Deeby\" , 30) , (\"Jully\",40) , (\"TX\" , 20)  ,(\"Brook\" ,50) ,  (\"Tx\" ,10) , (\"Deeby\" ,60)] , ['name' , 'age'])"
   ]
  },
  {
   "cell_type": "code",
   "execution_count": 10,
   "metadata": {
    "collapsed": true
   },
   "outputs": [
    {
     "data": {
      "text/plain": [
       "['__class__',\n",
       " '__delattr__',\n",
       " '__dict__',\n",
       " '__dir__',\n",
       " '__doc__',\n",
       " '__eq__',\n",
       " '__format__',\n",
       " '__ge__',\n",
       " '__getattr__',\n",
       " '__getattribute__',\n",
       " '__getitem__',\n",
       " '__getstate__',\n",
       " '__gt__',\n",
       " '__hash__',\n",
       " '__init__',\n",
       " '__init_subclass__',\n",
       " '__le__',\n",
       " '__lt__',\n",
       " '__module__',\n",
       " '__ne__',\n",
       " '__new__',\n",
       " '__reduce__',\n",
       " '__reduce_ex__',\n",
       " '__repr__',\n",
       " '__setattr__',\n",
       " '__sizeof__',\n",
       " '__str__',\n",
       " '__subclasshook__',\n",
       " '__weakref__',\n",
       " '_collect_as_arrow',\n",
       " '_ipython_key_completions_',\n",
       " '_jcols',\n",
       " '_jdf',\n",
       " '_jmap',\n",
       " '_joinAsOf',\n",
       " '_jseq',\n",
       " '_lazy_rdd',\n",
       " '_repr_html_',\n",
       " '_sc',\n",
       " '_schema',\n",
       " '_session',\n",
       " '_show_string',\n",
       " '_sort_cols',\n",
       " '_sql_ctx',\n",
       " '_support_repr_html',\n",
       " 'age',\n",
       " 'agg',\n",
       " 'alias',\n",
       " 'approxQuantile',\n",
       " 'cache',\n",
       " 'checkpoint',\n",
       " 'coalesce',\n",
       " 'colRegex',\n",
       " 'collect',\n",
       " 'columns',\n",
       " 'corr',\n",
       " 'count',\n",
       " 'cov',\n",
       " 'createGlobalTempView',\n",
       " 'createOrReplaceGlobalTempView',\n",
       " 'createOrReplaceTempView',\n",
       " 'createTempView',\n",
       " 'crossJoin',\n",
       " 'crosstab',\n",
       " 'cube',\n",
       " 'describe',\n",
       " 'distinct',\n",
       " 'drop',\n",
       " 'dropDuplicates',\n",
       " 'dropDuplicatesWithinWatermark',\n",
       " 'drop_duplicates',\n",
       " 'dropna',\n",
       " 'dtypes',\n",
       " 'exceptAll',\n",
       " 'explain',\n",
       " 'fillna',\n",
       " 'filter',\n",
       " 'first',\n",
       " 'foreach',\n",
       " 'foreachPartition',\n",
       " 'freqItems',\n",
       " 'groupBy',\n",
       " 'groupby',\n",
       " 'head',\n",
       " 'hint',\n",
       " 'inputFiles',\n",
       " 'intersect',\n",
       " 'intersectAll',\n",
       " 'isEmpty',\n",
       " 'isLocal',\n",
       " 'isStreaming',\n",
       " 'is_cached',\n",
       " 'join',\n",
       " 'limit',\n",
       " 'localCheckpoint',\n",
       " 'mapInArrow',\n",
       " 'mapInPandas',\n",
       " 'melt',\n",
       " 'na',\n",
       " 'name',\n",
       " 'observe',\n",
       " 'offset',\n",
       " 'orderBy',\n",
       " 'pandas_api',\n",
       " 'persist',\n",
       " 'printSchema',\n",
       " 'randomSplit',\n",
       " 'rdd',\n",
       " 'registerTempTable',\n",
       " 'repartition',\n",
       " 'repartitionByRange',\n",
       " 'replace',\n",
       " 'rollup',\n",
       " 'sameSemantics',\n",
       " 'sample',\n",
       " 'sampleBy',\n",
       " 'schema',\n",
       " 'select',\n",
       " 'selectExpr',\n",
       " 'semanticHash',\n",
       " 'show',\n",
       " 'sort',\n",
       " 'sortWithinPartitions',\n",
       " 'sparkSession',\n",
       " 'sql_ctx',\n",
       " 'stat',\n",
       " 'storageLevel',\n",
       " 'subtract',\n",
       " 'summary',\n",
       " 'tail',\n",
       " 'take',\n",
       " 'to',\n",
       " 'toDF',\n",
       " 'toJSON',\n",
       " 'toLocalIterator',\n",
       " 'toPandas',\n",
       " 'to_koalas',\n",
       " 'to_pandas_on_spark',\n",
       " 'transform',\n",
       " 'union',\n",
       " 'unionAll',\n",
       " 'unionByName',\n",
       " 'unpersist',\n",
       " 'unpivot',\n",
       " 'where',\n",
       " 'withColumn',\n",
       " 'withColumnRenamed',\n",
       " 'withColumns',\n",
       " 'withColumnsRenamed',\n",
       " 'withMetadata',\n",
       " 'withWatermark',\n",
       " 'write',\n",
       " 'writeStream',\n",
       " 'writeTo']"
      ]
     },
     "execution_count": 10,
     "metadata": {},
     "output_type": "execute_result"
    }
   ],
   "source": [
    "dir(data_f)"
   ]
  },
  {
   "cell_type": "code",
   "execution_count": 11,
   "metadata": {},
   "outputs": [
    {
     "name": "stdout",
     "output_type": "stream",
     "text": [
      "root\n",
      " |-- name: string (nullable = true)\n",
      " |-- age: long (nullable = true)\n",
      "\n"
     ]
    }
   ],
   "source": [
    "data_f.printSchema()"
   ]
  },
  {
   "cell_type": "code",
   "execution_count": 12,
   "metadata": {},
   "outputs": [
    {
     "name": "stderr",
     "output_type": "stream",
     "text": [
      "                                                                                \r"
     ]
    },
    {
     "name": "stdout",
     "output_type": "stream",
     "text": [
      "+-----+---+\n",
      "| name|age|\n",
      "+-----+---+\n",
      "|Brook| 20|\n",
      "|Deeby| 30|\n",
      "|Jully| 40|\n",
      "|   TX| 20|\n",
      "|Brook| 50|\n",
      "|   Tx| 10|\n",
      "|Deeby| 60|\n",
      "+-----+---+\n",
      "\n"
     ]
    }
   ],
   "source": [
    "#Action\n",
    "data_f.show()"
   ]
  },
  {
   "cell_type": "code",
   "execution_count": 13,
   "metadata": {},
   "outputs": [
    {
     "name": "stdout",
     "output_type": "stream",
     "text": [
      "+-----+---+\n",
      "| name|age|\n",
      "+-----+---+\n",
      "|Brook| 20|\n",
      "|Deeby| 30|\n",
      "|Jully| 40|\n",
      "+-----+---+\n",
      "only showing top 3 rows\n",
      "\n"
     ]
    }
   ],
   "source": [
    "data_f.show(3)"
   ]
  },
  {
   "cell_type": "code",
   "execution_count": 14,
   "metadata": {},
   "outputs": [
    {
     "data": {
      "text/plain": [
       "[Row(name='Brook', age=20),\n",
       " Row(name='Deeby', age=30),\n",
       " Row(name='Jully', age=40),\n",
       " Row(name='TX', age=20),\n",
       " Row(name='Brook', age=50),\n",
       " Row(name='Tx', age=10),\n",
       " Row(name='Deeby', age=60)]"
      ]
     },
     "execution_count": 14,
     "metadata": {},
     "output_type": "execute_result"
    }
   ],
   "source": [
    "data_f.collect()"
   ]
  },
  {
   "cell_type": "code",
   "execution_count": 15,
   "metadata": {},
   "outputs": [],
   "source": [
    "row = data_f.collect()"
   ]
  },
  {
   "cell_type": "code",
   "execution_count": 16,
   "metadata": {},
   "outputs": [
    {
     "data": {
      "text/plain": [
       "Row(name='Brook', age=20)"
      ]
     },
     "execution_count": 16,
     "metadata": {},
     "output_type": "execute_result"
    }
   ],
   "source": [
    "row[0]"
   ]
  },
  {
   "cell_type": "code",
   "execution_count": 17,
   "metadata": {
    "scrolled": true
   },
   "outputs": [
    {
     "data": {
      "text/plain": [
       "'Brook'"
      ]
     },
     "execution_count": 17,
     "metadata": {},
     "output_type": "execute_result"
    }
   ],
   "source": [
    "row[0].name"
   ]
  },
  {
   "cell_type": "code",
   "execution_count": 18,
   "metadata": {},
   "outputs": [
    {
     "data": {
      "text/plain": [
       "20"
      ]
     },
     "execution_count": 18,
     "metadata": {},
     "output_type": "execute_result"
    }
   ],
   "source": [
    "row[0].age"
   ]
  },
  {
   "cell_type": "code",
   "execution_count": 19,
   "metadata": {},
   "outputs": [
    {
     "data": {
      "text/plain": [
       "[Row(name='Brook', age=20), Row(name='Deeby', age=30)]"
      ]
     },
     "execution_count": 19,
     "metadata": {},
     "output_type": "execute_result"
    }
   ],
   "source": [
    "data_f.take(2)"
   ]
  },
  {
   "cell_type": "code",
   "execution_count": 20,
   "metadata": {},
   "outputs": [
    {
     "data": {
      "text/plain": [
       "[(0, Row(name='Brook', age=20)),\n",
       " (1, Row(name='Deeby', age=30)),\n",
       " (2, Row(name='Jully', age=40)),\n",
       " (3, Row(name='TX', age=20)),\n",
       " (4, Row(name='Brook', age=50)),\n",
       " (5, Row(name='Tx', age=10)),\n",
       " (6, Row(name='Deeby', age=60))]"
      ]
     },
     "execution_count": 20,
     "metadata": {},
     "output_type": "execute_result"
    }
   ],
   "source": [
    "list(enumerate(row))"
   ]
  },
  {
   "cell_type": "code",
   "execution_count": 23,
   "metadata": {},
   "outputs": [
    {
     "name": "stdout",
     "output_type": "stream",
     "text": [
      "0 Row(name='Brook', age=20)\n",
      "1 Row(name='Deeby', age=30)\n",
      "2 Row(name='Jully', age=40)\n",
      "3 Row(name='TX', age=20)\n",
      "4 Row(name='Brook', age=50)\n",
      "5 Row(name='Tx', age=10)\n",
      "6 Row(name='Deeby', age=60)\n"
     ]
    }
   ],
   "source": [
    "for index , item in list(enumerate(row)):\n",
    "    print (index ,item)"
   ]
  },
  {
   "cell_type": "code",
   "execution_count": 24,
   "metadata": {},
   "outputs": [],
   "source": [
    "res1 =data_f.groupBy('name').avg('age')"
   ]
  },
  {
   "cell_type": "code",
   "execution_count": 25,
   "metadata": {},
   "outputs": [
    {
     "name": "stdout",
     "output_type": "stream",
     "text": [
      "+-----+--------+\n",
      "| name|avg(age)|\n",
      "+-----+--------+\n",
      "|Brook|    35.0|\n",
      "|Deeby|    45.0|\n",
      "|Jully|    40.0|\n",
      "|   TX|    20.0|\n",
      "|   Tx|    10.0|\n",
      "+-----+--------+\n",
      "\n"
     ]
    }
   ],
   "source": [
    "\"\"\" this method build in this mission to shaw all the info\"\"\"\n",
    "res1.show() \n"
   ]
  },
  {
   "cell_type": "code",
   "execution_count": 26,
   "metadata": {},
   "outputs": [
    {
     "data": {
      "text/plain": [
       "1"
      ]
     },
     "execution_count": 26,
     "metadata": {},
     "output_type": "execute_result"
    }
   ],
   "source": [
    "res1.rdd.getNumPartitions()"
   ]
  },
  {
   "cell_type": "code",
   "execution_count": 27,
   "metadata": {},
   "outputs": [
    {
     "data": {
      "text/plain": [
       "8"
      ]
     },
     "execution_count": 27,
     "metadata": {},
     "output_type": "execute_result"
    }
   ],
   "source": [
    "data_f.rdd.getNumPartitions()"
   ]
  },
  {
   "cell_type": "code",
   "execution_count": 28,
   "metadata": {},
   "outputs": [
    {
     "data": {
      "text/plain": [
       "Row(name='Brook', age=20)"
      ]
     },
     "execution_count": 28,
     "metadata": {},
     "output_type": "execute_result"
    }
   ],
   "source": [
    "data_f.head()"
   ]
  },
  {
   "cell_type": "code",
   "execution_count": 29,
   "metadata": {},
   "outputs": [
    {
     "data": {
      "text/plain": [
       "[Row(name='Brook', age=20), Row(name='Deeby', age=30)]"
      ]
     },
     "execution_count": 29,
     "metadata": {},
     "output_type": "execute_result"
    }
   ],
   "source": [
    "data_f.head(2)"
   ]
  },
  {
   "cell_type": "code",
   "execution_count": 30,
   "metadata": {},
   "outputs": [],
   "source": [
    "from pyspark.sql.functions import avg"
   ]
  },
  {
   "cell_type": "code",
   "execution_count": 31,
   "metadata": {},
   "outputs": [],
   "source": [
    "avg_result =data_f.groupBy('name').agg(avg('age').alias('Average'))"
   ]
  },
  {
   "cell_type": "code",
   "execution_count": 32,
   "metadata": {},
   "outputs": [
    {
     "name": "stdout",
     "output_type": "stream",
     "text": [
      "root\n",
      " |-- name: string (nullable = true)\n",
      " |-- Average: double (nullable = true)\n",
      "\n"
     ]
    }
   ],
   "source": [
    "avg_result.printSchema()"
   ]
  },
  {
   "cell_type": "code",
   "execution_count": 33,
   "metadata": {
    "scrolled": true
   },
   "outputs": [
    {
     "name": "stdout",
     "output_type": "stream",
     "text": [
      "+-----+-------+\n",
      "| name|Average|\n",
      "+-----+-------+\n",
      "|Brook|   35.0|\n",
      "|Deeby|   45.0|\n",
      "|Jully|   40.0|\n",
      "|   TX|   20.0|\n",
      "|   Tx|   10.0|\n",
      "+-----+-------+\n",
      "\n"
     ]
    }
   ],
   "source": [
    "avg_result.show()"
   ]
  },
  {
   "cell_type": "code",
   "execution_count": null,
   "metadata": {},
   "outputs": [],
   "source": [
    "# not need to know how json formate using in python in standard libary or any semi structure or un structure"
   ]
  },
  {
   "cell_type": "code",
   "execution_count": 34,
   "metadata": {},
   "outputs": [],
   "source": [
    "df = spark.read.json('people.json')"
   ]
  },
  {
   "cell_type": "code",
   "execution_count": 35,
   "metadata": {},
   "outputs": [
    {
     "name": "stdout",
     "output_type": "stream",
     "text": [
      "root\n",
      " |-- age: long (nullable = true)\n",
      " |-- city: string (nullable = true)\n",
      " |-- friends: array (nullable = true)\n",
      " |    |-- element: struct (containsNull = true)\n",
      " |    |    |-- hobbies: array (nullable = true)\n",
      " |    |    |    |-- element: string (containsNull = true)\n",
      " |    |    |-- name: string (nullable = true)\n",
      " |-- id: long (nullable = true)\n",
      " |-- name: string (nullable = true)\n",
      "\n"
     ]
    }
   ],
   "source": [
    "df.printSchema()"
   ]
  },
  {
   "cell_type": "code",
   "execution_count": 36,
   "metadata": {},
   "outputs": [
    {
     "name": "stdout",
     "output_type": "stream",
     "text": [
      "+---+-----------+--------------------+---+--------+\n",
      "|age|       city|             friends| id|    name|\n",
      "+---+-----------+--------------------+---+--------+\n",
      "| 78|     Austin|[{[Watching Sport...|  0|  Elijah|\n",
      "| 97|     Boston|[{[Watching Sport...|  1|    Noah|\n",
      "| 48|  San Diego|[{[Reading, Volun...|  2|     Evy|\n",
      "| 39|  St. Louis|[{[Watching Sport...|  3|  Oliver|\n",
      "| 95|  St. Louis|[{[Movie Watching...|  4| Michael|\n",
      "| 19|   Portland|[{[Painting, Tele...|  5| Michael|\n",
      "| 76|     Austin|[{[Genealogy, Coo...|  6|   Lucas|\n",
      "| 25|San Antonio|[{[Music, Golf], ...|  7|Michelle|\n",
      "| 61|     Austin|[{[Bicycling, Ski...|  8|   Emily|\n",
      "| 33|New Orleans|[{[Traveling, Bic...|  9|    Liam|\n",
      "+---+-----------+--------------------+---+--------+\n",
      "\n"
     ]
    }
   ],
   "source": [
    "df.show()"
   ]
  },
  {
   "cell_type": "code",
   "execution_count": 37,
   "metadata": {},
   "outputs": [
    {
     "data": {
      "text/plain": [
       "pyspark.sql.column.Column"
      ]
     },
     "execution_count": 37,
     "metadata": {},
     "output_type": "execute_result"
    }
   ],
   "source": [
    "type(df.age)"
   ]
  },
  {
   "cell_type": "code",
   "execution_count": 38,
   "metadata": {},
   "outputs": [
    {
     "data": {
      "text/plain": [
       "Column<'age'>"
      ]
     },
     "execution_count": 38,
     "metadata": {},
     "output_type": "execute_result"
    }
   ],
   "source": [
    "df.age"
   ]
  },
  {
   "cell_type": "code",
   "execution_count": 39,
   "metadata": {},
   "outputs": [
    {
     "data": {
      "text/plain": [
       "Column<'id'>"
      ]
     },
     "execution_count": 39,
     "metadata": {},
     "output_type": "execute_result"
    }
   ],
   "source": [
    "df['id']"
   ]
  },
  {
   "cell_type": "code",
   "execution_count": 40,
   "metadata": {},
   "outputs": [],
   "source": [
    "from pyspark.sql.functions import col"
   ]
  },
  {
   "cell_type": "code",
   "execution_count": null,
   "metadata": {},
   "outputs": [],
   "source": [
    "# SQL queries by DF "
   ]
  },
  {
   "cell_type": "code",
   "execution_count": 41,
   "metadata": {},
   "outputs": [
    {
     "data": {
      "text/plain": [
       "DataFrame[name: string]"
      ]
     },
     "execution_count": 41,
     "metadata": {},
     "output_type": "execute_result"
    }
   ],
   "source": [
    "df.select('name')"
   ]
  },
  {
   "cell_type": "code",
   "execution_count": 42,
   "metadata": {},
   "outputs": [],
   "source": [
    "df_name = df.select('name')"
   ]
  },
  {
   "cell_type": "code",
   "execution_count": 43,
   "metadata": {},
   "outputs": [
    {
     "name": "stdout",
     "output_type": "stream",
     "text": [
      "root\n",
      " |-- name: string (nullable = true)\n",
      "\n"
     ]
    }
   ],
   "source": [
    "df_name.printSchema()"
   ]
  },
  {
   "cell_type": "code",
   "execution_count": 44,
   "metadata": {},
   "outputs": [
    {
     "name": "stdout",
     "output_type": "stream",
     "text": [
      "+--------+\n",
      "|    name|\n",
      "+--------+\n",
      "|  Elijah|\n",
      "|    Noah|\n",
      "|     Evy|\n",
      "|  Oliver|\n",
      "| Michael|\n",
      "| Michael|\n",
      "|   Lucas|\n",
      "|Michelle|\n",
      "|   Emily|\n",
      "|    Liam|\n",
      "+--------+\n",
      "\n"
     ]
    }
   ],
   "source": [
    "df_name.show()"
   ]
  },
  {
   "cell_type": "code",
   "execution_count": 45,
   "metadata": {},
   "outputs": [],
   "source": [
    " df_age = df.select('age')"
   ]
  },
  {
   "cell_type": "code",
   "execution_count": 46,
   "metadata": {},
   "outputs": [
    {
     "name": "stdout",
     "output_type": "stream",
     "text": [
      "root\n",
      " |-- age: long (nullable = true)\n",
      "\n"
     ]
    }
   ],
   "source": [
    "df_age.printSchema()"
   ]
  },
  {
   "cell_type": "code",
   "execution_count": 47,
   "metadata": {},
   "outputs": [
    {
     "name": "stdout",
     "output_type": "stream",
     "text": [
      "+---+\n",
      "|age|\n",
      "+---+\n",
      "| 78|\n",
      "| 97|\n",
      "| 48|\n",
      "| 39|\n",
      "| 95|\n",
      "| 19|\n",
      "| 76|\n",
      "| 25|\n",
      "| 61|\n",
      "| 33|\n",
      "+---+\n",
      "\n"
     ]
    }
   ],
   "source": [
    "df_age.show()"
   ]
  },
  {
   "cell_type": "code",
   "execution_count": 48,
   "metadata": {},
   "outputs": [],
   "source": [
    "cont_age=df_age.where(col('age') > 40)"
   ]
  },
  {
   "cell_type": "code",
   "execution_count": 49,
   "metadata": {},
   "outputs": [
    {
     "name": "stdout",
     "output_type": "stream",
     "text": [
      "+---+\n",
      "|age|\n",
      "+---+\n",
      "| 78|\n",
      "| 97|\n",
      "| 48|\n",
      "| 95|\n",
      "| 76|\n",
      "| 61|\n",
      "+---+\n",
      "\n"
     ]
    }
   ],
   "source": [
    "cont_age.show()"
   ]
  },
  {
   "cell_type": "code",
   "execution_count": 50,
   "metadata": {},
   "outputs": [],
   "source": [
    "from pyspark.sql.functions import *\n",
    "import pyspark.sql.functions as fn "
   ]
  },
  {
   "cell_type": "code",
   "execution_count": null,
   "metadata": {},
   "outputs": [],
   "source": [
    "fn."
   ]
  },
  {
   "cell_type": "code",
   "execution_count": null,
   "metadata": {},
   "outputs": [],
   "source": [
    "sum"
   ]
  },
  {
   "cell_type": "code",
   "execution_count": null,
   "metadata": {},
   "outputs": [],
   "source": [
    "avg()\n",
    "fn.avg()"
   ]
  },
  {
   "cell_type": "code",
   "execution_count": null,
   "metadata": {},
   "outputs": [],
   "source": [
    "col()"
   ]
  },
  {
   "cell_type": "code",
   "execution_count": 51,
   "metadata": {},
   "outputs": [
    {
     "name": "stdout",
     "output_type": "stream",
     "text": [
      "root\n",
      " |-- age: long (nullable = true)\n",
      " |-- city: string (nullable = true)\n",
      " |-- friends: array (nullable = true)\n",
      " |    |-- element: struct (containsNull = true)\n",
      " |    |    |-- hobbies: array (nullable = true)\n",
      " |    |    |    |-- element: string (containsNull = true)\n",
      " |    |    |-- name: string (nullable = true)\n",
      " |-- id: long (nullable = true)\n",
      " |-- name: string (nullable = true)\n",
      "\n"
     ]
    }
   ],
   "source": [
    "df.printSchema()"
   ]
  },
  {
   "cell_type": "code",
   "execution_count": 52,
   "metadata": {},
   "outputs": [
    {
     "name": "stdout",
     "output_type": "stream",
     "text": [
      "+---+-----------+--------------------+---+--------+\n",
      "|age|       city|             friends| id|    name|\n",
      "+---+-----------+--------------------+---+--------+\n",
      "| 78|     Austin|[{[Watching Sport...|  0|  Elijah|\n",
      "| 97|     Boston|[{[Watching Sport...|  1|    Noah|\n",
      "| 48|  San Diego|[{[Reading, Volun...|  2|     Evy|\n",
      "| 39|  St. Louis|[{[Watching Sport...|  3|  Oliver|\n",
      "| 95|  St. Louis|[{[Movie Watching...|  4| Michael|\n",
      "| 19|   Portland|[{[Painting, Tele...|  5| Michael|\n",
      "| 76|     Austin|[{[Genealogy, Coo...|  6|   Lucas|\n",
      "| 25|San Antonio|[{[Music, Golf], ...|  7|Michelle|\n",
      "| 61|     Austin|[{[Bicycling, Ski...|  8|   Emily|\n",
      "| 33|New Orleans|[{[Traveling, Bic...|  9|    Liam|\n",
      "+---+-----------+--------------------+---+--------+\n",
      "\n"
     ]
    }
   ],
   "source": [
    "df.show()"
   ]
  },
  {
   "cell_type": "code",
   "execution_count": 53,
   "metadata": {},
   "outputs": [
    {
     "name": "stdout",
     "output_type": "stream",
     "text": [
      "+-----------+-------+\n",
      "|       city|user_id|\n",
      "+-----------+-------+\n",
      "|     Austin|      3|\n",
      "|     Boston|      1|\n",
      "|New Orleans|      1|\n",
      "|   Portland|      1|\n",
      "|San Antonio|      1|\n",
      "|  San Diego|      1|\n",
      "|  St. Louis|      2|\n",
      "+-----------+-------+\n",
      "\n"
     ]
    }
   ],
   "source": [
    "df.groupBy('city').agg(fn.count('id').alias('user_id')).orderBy('city').show()"
   ]
  },
  {
   "cell_type": "code",
   "execution_count": 54,
   "metadata": {},
   "outputs": [
    {
     "data": {
      "text/plain": [
       "DataFrame[age: bigint, city: string, friends: array<struct<hobbies:array<string>,name:string>>, id: bigint, name: string]"
      ]
     },
     "execution_count": 54,
     "metadata": {},
     "output_type": "execute_result"
    }
   ],
   "source": [
    "# first action after persist method\n",
    "df.persist()"
   ]
  },
  {
   "cell_type": "code",
   "execution_count": 55,
   "metadata": {},
   "outputs": [
    {
     "name": "stdout",
     "output_type": "stream",
     "text": [
      "+-----------+-------+\n",
      "|       city|user_id|\n",
      "+-----------+-------+\n",
      "|     Austin|      3|\n",
      "|     Boston|      1|\n",
      "|New Orleans|      1|\n",
      "|   Portland|      1|\n",
      "|San Antonio|      1|\n",
      "|  San Diego|      1|\n",
      "|  St. Louis|      2|\n",
      "+-----------+-------+\n",
      "\n"
     ]
    }
   ],
   "source": [
    "df.groupBy('city').agg(fn.count('name').alias('user_id')).orderBy('city').show()"
   ]
  },
  {
   "cell_type": "code",
   "execution_count": 56,
   "metadata": {},
   "outputs": [
    {
     "name": "stdout",
     "output_type": "stream",
     "text": [
      "+-----------+--------+-------+\n",
      "|       city|    name|user_id|\n",
      "+-----------+--------+-------+\n",
      "|     Austin|  Elijah|      1|\n",
      "|   Portland| Michael|      1|\n",
      "|  St. Louis| Michael|      1|\n",
      "|San Antonio|Michelle|      1|\n",
      "|New Orleans|    Liam|      1|\n",
      "|     Austin|   Emily|      1|\n",
      "|  San Diego|     Evy|      1|\n",
      "|     Austin|   Lucas|      1|\n",
      "|     Boston|    Noah|      1|\n",
      "|  St. Louis|  Oliver|      1|\n",
      "+-----------+--------+-------+\n",
      "\n"
     ]
    }
   ],
   "source": [
    "df.groupBy('city' , 'name').agg(fn.count('id').alias('user_id')).show()"
   ]
  },
  {
   "cell_type": "code",
   "execution_count": 57,
   "metadata": {},
   "outputs": [
    {
     "data": {
      "text/plain": [
       "DataFrame[age: bigint, city: string, friends: array<struct<hobbies:array<string>,name:string>>, id: bigint, name: string]"
      ]
     },
     "execution_count": 57,
     "metadata": {},
     "output_type": "execute_result"
    }
   ],
   "source": [
    "df.unpersist()"
   ]
  },
  {
   "cell_type": "code",
   "execution_count": null,
   "metadata": {},
   "outputs": [],
   "source": [
    "df.cache()"
   ]
  },
  {
   "cell_type": "code",
   "execution_count": 58,
   "metadata": {},
   "outputs": [
    {
     "name": "stdout",
     "output_type": "stream",
     "text": [
      "+---+-----------+--------------------+---+--------+\n",
      "|age|       city|             friends| id|    name|\n",
      "+---+-----------+--------------------+---+--------+\n",
      "| 78|     Austin|[{[Watching Sport...|  0|  Elijah|\n",
      "| 61|     Austin|[{[Bicycling, Ski...|  8|   Emily|\n",
      "| 48|  San Diego|[{[Reading, Volun...|  2|     Evy|\n",
      "| 33|New Orleans|[{[Traveling, Bic...|  9|    Liam|\n",
      "| 76|     Austin|[{[Genealogy, Coo...|  6|   Lucas|\n",
      "| 95|  St. Louis|[{[Movie Watching...|  4| Michael|\n",
      "| 19|   Portland|[{[Painting, Tele...|  5| Michael|\n",
      "| 25|San Antonio|[{[Music, Golf], ...|  7|Michelle|\n",
      "| 97|     Boston|[{[Watching Sport...|  1|    Noah|\n",
      "| 39|  St. Louis|[{[Watching Sport...|  3|  Oliver|\n",
      "+---+-----------+--------------------+---+--------+\n",
      "\n"
     ]
    }
   ],
   "source": [
    "df.sort('name').show()"
   ]
  },
  {
   "cell_type": "code",
   "execution_count": 59,
   "metadata": {},
   "outputs": [
    {
     "name": "stdout",
     "output_type": "stream",
     "text": [
      "+---+-----------+--------------------+---+--------+\n",
      "|age|       city|             friends| id|    name|\n",
      "+---+-----------+--------------------+---+--------+\n",
      "| 19|   Portland|[{[Painting, Tele...|  5| Michael|\n",
      "| 25|San Antonio|[{[Music, Golf], ...|  7|Michelle|\n",
      "| 33|New Orleans|[{[Traveling, Bic...|  9|    Liam|\n",
      "| 39|  St. Louis|[{[Watching Sport...|  3|  Oliver|\n",
      "| 48|  San Diego|[{[Reading, Volun...|  2|     Evy|\n",
      "| 61|     Austin|[{[Bicycling, Ski...|  8|   Emily|\n",
      "| 76|     Austin|[{[Genealogy, Coo...|  6|   Lucas|\n",
      "| 78|     Austin|[{[Watching Sport...|  0|  Elijah|\n",
      "| 95|  St. Louis|[{[Movie Watching...|  4| Michael|\n",
      "| 97|     Boston|[{[Watching Sport...|  1|    Noah|\n",
      "+---+-----------+--------------------+---+--------+\n",
      "\n"
     ]
    }
   ],
   "source": [
    "df.sort('age').show()"
   ]
  },
  {
   "cell_type": "code",
   "execution_count": 60,
   "metadata": {},
   "outputs": [
    {
     "name": "stdout",
     "output_type": "stream",
     "text": [
      "+---+-----------+--------------------+---+--------+\n",
      "|age|       city|             friends| id|    name|\n",
      "+---+-----------+--------------------+---+--------+\n",
      "| 78|     Austin|[{[Watching Sport...|  0|  Elijah|\n",
      "| 61|     Austin|[{[Bicycling, Ski...|  8|   Emily|\n",
      "| 76|     Austin|[{[Genealogy, Coo...|  6|   Lucas|\n",
      "| 97|     Boston|[{[Watching Sport...|  1|    Noah|\n",
      "| 33|New Orleans|[{[Traveling, Bic...|  9|    Liam|\n",
      "| 19|   Portland|[{[Painting, Tele...|  5| Michael|\n",
      "| 25|San Antonio|[{[Music, Golf], ...|  7|Michelle|\n",
      "| 48|  San Diego|[{[Reading, Volun...|  2|     Evy|\n",
      "| 95|  St. Louis|[{[Movie Watching...|  4| Michael|\n",
      "| 39|  St. Louis|[{[Watching Sport...|  3|  Oliver|\n",
      "+---+-----------+--------------------+---+--------+\n",
      "\n"
     ]
    }
   ],
   "source": [
    "df_sort=df.sort('city' ,'name').show()"
   ]
  },
  {
   "cell_type": "code",
   "execution_count": null,
   "metadata": {},
   "outputs": [],
   "source": []
  },
  {
   "cell_type": "code",
   "execution_count": null,
   "metadata": {},
   "outputs": [],
   "source": []
  },
  {
   "cell_type": "code",
   "execution_count": null,
   "metadata": {},
   "outputs": [],
   "source": [
    "# schemaa spilte into two way (first programatic schema or data definition schema (DDL))"
   ]
  },
  {
   "cell_type": "code",
   "execution_count": 61,
   "metadata": {},
   "outputs": [],
   "source": [
    "from pyspark.sql.types import *"
   ]
  },
  {
   "cell_type": "code",
   "execution_count": 62,
   "metadata": {},
   "outputs": [],
   "source": [
    "myschema = StructType([StructField('author_name',StringType(),False),\n",
    "                        StructField('title' , StringType(),False),\n",
    "                        StructField('Pages' , IntegerType(), True )])"
   ]
  },
  {
   "cell_type": "code",
   "execution_count": 63,
   "metadata": {},
   "outputs": [],
   "source": [
    "data  = [['Ahmed' , 'Book1' ,  3 ] , ['khaled' , 'Book2' ,  10 ] ,['Mostafa' , 'Book3' ,  4 ] ,['Hazem' , 'Book' ,  20 ] ,['Hany' , 'Book5' ,  30]]"
   ]
  },
  {
   "cell_type": "code",
   "execution_count": 64,
   "metadata": {
    "scrolled": true
   },
   "outputs": [],
   "source": [
    "dfschema =spark.createDataFrame(data , schema=myschema)"
   ]
  },
  {
   "cell_type": "code",
   "execution_count": 65,
   "metadata": {
    "scrolled": true
   },
   "outputs": [
    {
     "name": "stdout",
     "output_type": "stream",
     "text": [
      "root\n",
      " |-- author_name: string (nullable = false)\n",
      " |-- title: string (nullable = false)\n",
      " |-- Pages: integer (nullable = true)\n",
      "\n"
     ]
    }
   ],
   "source": [
    "dfschema.printSchema()"
   ]
  },
  {
   "cell_type": "code",
   "execution_count": 66,
   "metadata": {},
   "outputs": [
    {
     "name": "stdout",
     "output_type": "stream",
     "text": [
      "+-----------+-----+-----+\n",
      "|author_name|title|Pages|\n",
      "+-----------+-----+-----+\n",
      "|      Ahmed|Book1|    3|\n",
      "|     khaled|Book2|   10|\n",
      "|    Mostafa|Book3|    4|\n",
      "|      Hazem| Book|   20|\n",
      "|       Hany|Book5|   30|\n",
      "+-----------+-----+-----+\n",
      "\n"
     ]
    }
   ],
   "source": [
    "dfschema.show()"
   ]
  },
  {
   "cell_type": "code",
   "execution_count": null,
   "metadata": {},
   "outputs": [],
   "source": [
    "# spark.read.csv(schema=myschema)"
   ]
  },
  {
   "cell_type": "code",
   "execution_count": null,
   "metadata": {},
   "outputs": [],
   "source": [
    "#DDL"
   ]
  },
  {
   "cell_type": "code",
   "execution_count": 67,
   "metadata": {},
   "outputs": [],
   "source": [
    "mynewschema = 'ID INT not null , First_name STRING ,Last_Name STRING , URL STRING , Published STRING , Hits INT , Campaigns ARRAY<STRING> '"
   ]
  },
  {
   "cell_type": "code",
   "execution_count": 68,
   "metadata": {},
   "outputs": [
    {
     "data": {
      "text/plain": [
       "'ID INT not null , First_name STRING ,Last_Name STRING , URL STRING , Published STRING , Hits INT , Campaigns ARRAY<STRING> '"
      ]
     },
     "execution_count": 68,
     "metadata": {},
     "output_type": "execute_result"
    }
   ],
   "source": [
    "mynewschema"
   ]
  },
  {
   "cell_type": "code",
   "execution_count": null,
   "metadata": {},
   "outputs": [],
   "source": []
  },
  {
   "cell_type": "code",
   "execution_count": null,
   "metadata": {},
   "outputs": [],
   "source": []
  },
  {
   "cell_type": "code",
   "execution_count": null,
   "metadata": {},
   "outputs": [],
   "source": []
  },
  {
   "cell_type": "code",
   "execution_count": null,
   "metadata": {},
   "outputs": [],
   "source": []
  },
  {
   "cell_type": "code",
   "execution_count": null,
   "metadata": {},
   "outputs": [],
   "source": []
  },
  {
   "cell_type": "code",
   "execution_count": null,
   "metadata": {},
   "outputs": [],
   "source": [
    "#hamlet data flow"
   ]
  },
  {
   "cell_type": "code",
   "execution_count": 69,
   "metadata": {},
   "outputs": [],
   "source": [
    "hamletstory = sc.textFile('hamlet.txt')"
   ]
  },
  {
   "cell_type": "code",
   "execution_count": 70,
   "metadata": {},
   "outputs": [],
   "source": [
    "temp=hamletstory.map(lambda x : x.split()).collect()"
   ]
  },
  {
   "cell_type": "code",
   "execution_count": 71,
   "metadata": {
    "collapsed": true
   },
   "outputs": [
    {
     "data": {
      "text/plain": [
       "[[],\n",
       " ['1604'],\n",
       " [],\n",
       " [],\n",
       " ['THE', 'TRAGEDY', 'OF', 'HAMLET,', 'PRINCE', 'OF', 'DENMARK'],\n",
       " [],\n",
       " [],\n",
       " ['by', 'William', 'Shakespeare'],\n",
       " [],\n",
       " [],\n",
       " [],\n",
       " ['Dramatis', 'Personae'],\n",
       " [],\n",
       " ['Claudius,', 'King', 'of', 'Denmark.'],\n",
       " ['Marcellus,', 'Officer.'],\n",
       " ['Hamlet,',\n",
       "  'son',\n",
       "  'to',\n",
       "  'the',\n",
       "  'former,',\n",
       "  'and',\n",
       "  'nephew',\n",
       "  'to',\n",
       "  'the',\n",
       "  'present',\n",
       "  'king.'],\n",
       " ['Polonius,', 'Lord', 'Chamberlain.'],\n",
       " ['Horatio,', 'friend', 'to', 'Hamlet.'],\n",
       " ['Laertes,', 'son', 'to', 'Polonius.'],\n",
       " ['Voltemand,', 'courtier.'],\n",
       " ['Cornelius,', 'courtier.'],\n",
       " ['Rosencrantz,', 'courtier.'],\n",
       " ['Guildenstern,', 'courtier.'],\n",
       " ['Osric,', 'courtier.'],\n",
       " ['A', 'Gentleman,', 'courtier.'],\n",
       " ['A', 'Priest.'],\n",
       " ['Marcellus,', 'officer.'],\n",
       " ['Bernardo,', 'officer.'],\n",
       " ['Francisco,', 'a', 'soldier'],\n",
       " ['Reynaldo,', 'servant', 'to', 'Polonius.'],\n",
       " ['Players.'],\n",
       " ['Two', 'Clowns,', 'gravediggers.'],\n",
       " ['Fortinbras,', 'Prince', 'of', 'Norway.'],\n",
       " ['A', 'Norwegian', 'Captain.'],\n",
       " ['English', 'Ambassadors.'],\n",
       " [],\n",
       " ['Getrude,', 'Queen', 'of', 'Denmark,', 'mother', 'to', 'Hamlet.'],\n",
       " ['Ophelia,', 'daughter', 'to', 'Polonius.'],\n",
       " [],\n",
       " ['Ghost', 'of', \"Hamlet's\", 'Father.'],\n",
       " [],\n",
       " ['Lords,',\n",
       "  'ladies,',\n",
       "  'Officers,',\n",
       "  'Soldiers,',\n",
       "  'Sailors,',\n",
       "  'Messengers,',\n",
       "  'Attendants.'],\n",
       " [],\n",
       " [],\n",
       " [],\n",
       " [],\n",
       " [],\n",
       " ['SCENE.-', 'Elsinore.'],\n",
       " [],\n",
       " [],\n",
       " ['ACT', 'I.', 'Scene', 'I.'],\n",
       " ['Elsinore.', 'A', 'platform', 'before', 'the', 'Castle.'],\n",
       " [],\n",
       " ['Enter',\n",
       "  'two',\n",
       "  'Sentinels-[first,]',\n",
       "  'Francisco,',\n",
       "  '[who',\n",
       "  'paces',\n",
       "  'up',\n",
       "  'and',\n",
       "  'down'],\n",
       " ['at', 'his', 'post;', 'then]', 'Bernardo,', '[who', 'approaches', 'him].'],\n",
       " [],\n",
       " ['Ber.', \"Who's\", 'there.?'],\n",
       " ['Fran.', 'Nay,', 'answer', 'me.', 'Stand', 'and', 'unfold', 'yourself.'],\n",
       " ['Ber.', 'Long', 'live', 'the', 'King!'],\n",
       " ['Fran.', 'Bernardo?'],\n",
       " ['Ber.', 'He.'],\n",
       " ['Fran.', 'You', 'come', 'most', 'carefully', 'upon', 'your', 'hour.'],\n",
       " ['Ber.',\n",
       "  \"'Tis\",\n",
       "  'now',\n",
       "  'struck',\n",
       "  'twelve.',\n",
       "  'Get',\n",
       "  'thee',\n",
       "  'to',\n",
       "  'bed,',\n",
       "  'Francisco.'],\n",
       " ['Fran.',\n",
       "  'For',\n",
       "  'this',\n",
       "  'relief',\n",
       "  'much',\n",
       "  'thanks.',\n",
       "  \"'Tis\",\n",
       "  'bitter',\n",
       "  'cold,'],\n",
       " ['And', 'I', 'am', 'sick', 'at', 'heart.'],\n",
       " ['Ber.', 'Have', 'you', 'had', 'quiet', 'guard?'],\n",
       " ['Fran.', 'Not', 'a', 'mouse', 'stirring.'],\n",
       " ['Ber.', 'Well,', 'good', 'night.'],\n",
       " ['If', 'you', 'do', 'meet', 'Horatio', 'and', 'Marcellus,'],\n",
       " ['The', 'rivals', 'of', 'my', 'watch,', 'bid', 'them', 'make', 'haste.'],\n",
       " [],\n",
       " ['Enter', 'Horatio', 'and', 'Marcellus.'],\n",
       " [],\n",
       " ['Fran.',\n",
       "  'I',\n",
       "  'think',\n",
       "  'I',\n",
       "  'hear',\n",
       "  'them.',\n",
       "  'Stand,',\n",
       "  'ho!',\n",
       "  'Who',\n",
       "  'is',\n",
       "  'there?'],\n",
       " ['Hor.', 'Friends', 'to', 'this', 'ground.'],\n",
       " ['Mar.', 'And', 'liegemen', 'to', 'the', 'Dane.'],\n",
       " ['Fran.', 'Give', 'you', 'good', 'night.'],\n",
       " ['Mar.', 'O,', 'farewell,', 'honest', 'soldier.'],\n",
       " ['Who', 'hath', \"reliev'd\", 'you?'],\n",
       " ['Fran.', 'Bernardo', 'hath', 'my', 'place.'],\n",
       " ['Give', 'you', 'good', 'night.', 'Exit.'],\n",
       " ['Mar.', 'Holla,', 'Bernardo!'],\n",
       " ['Ber.', 'Say-'],\n",
       " ['What,', 'is', 'Horatio', 'there', '?'],\n",
       " ['Hor.', 'A', 'piece', 'of', 'him.'],\n",
       " ['Ber.', 'Welcome,', 'Horatio.', 'Welcome,', 'good', 'Marcellus.'],\n",
       " ['Mar.', 'What,', 'has', 'this', 'thing', \"appear'd\", 'again', 'to-night?'],\n",
       " ['Ber.', 'I', 'have', 'seen', 'nothing.'],\n",
       " ['Mar.', 'Horatio', 'says', \"'tis\", 'but', 'our', 'fantasy,'],\n",
       " ['And', 'will', 'not', 'let', 'belief', 'take', 'hold', 'of', 'him'],\n",
       " ['Touching', 'this', 'dreaded', 'sight,', 'twice', 'seen', 'of', 'us.'],\n",
       " ['Therefore', 'I', 'have', 'entreated', 'him', 'along,'],\n",
       " ['With', 'us', 'to', 'watch', 'the', 'minutes', 'of', 'this', 'night,'],\n",
       " ['That,', 'if', 'again', 'this', 'apparition', 'come,'],\n",
       " ['He', 'may', 'approve', 'our', 'eyes', 'and', 'speak', 'to', 'it.'],\n",
       " ['Hor.', 'Tush,', 'tush,', \"'twill\", 'not', 'appear.'],\n",
       " ['Ber.', 'Sit', 'down', 'awhile,'],\n",
       " ['And', 'let', 'us', 'once', 'again', 'assail', 'your', 'ears,'],\n",
       " ['That', 'are', 'so', 'fortified', 'against', 'our', 'story,'],\n",
       " ['What', 'we', 'two', 'nights', 'have', 'seen.'],\n",
       " ['Hor.', 'Well,', 'sit', 'we', 'down,'],\n",
       " ['And', 'let', 'us', 'hear', 'Bernardo', 'speak', 'of', 'this.'],\n",
       " ['Ber.', 'Last', 'night', 'of', 'all,'],\n",
       " ['When', 'yond', 'same', 'star', \"that's\", 'westward', 'from', 'the', 'pole'],\n",
       " ['Had',\n",
       "  'made',\n",
       "  'his',\n",
       "  'course',\n",
       "  \"t'\",\n",
       "  'illume',\n",
       "  'that',\n",
       "  'part',\n",
       "  'of',\n",
       "  'heaven'],\n",
       " ['Where', 'now', 'it', 'burns,', 'Marcellus', 'and', 'myself,'],\n",
       " ['The', 'bell', 'then', 'beating', 'one-'],\n",
       " [],\n",
       " ['Enter', 'Ghost.'],\n",
       " [],\n",
       " ['Mar.',\n",
       "  'Peace!',\n",
       "  'break',\n",
       "  'thee',\n",
       "  'off!',\n",
       "  'Look',\n",
       "  'where',\n",
       "  'it',\n",
       "  'comes',\n",
       "  'again!'],\n",
       " ['Ber.',\n",
       "  'In',\n",
       "  'the',\n",
       "  'same',\n",
       "  'figure,',\n",
       "  'like',\n",
       "  'the',\n",
       "  'King',\n",
       "  \"that's\",\n",
       "  'dead.'],\n",
       " ['Mar.', 'Thou', 'art', 'a', 'scholar;', 'speak', 'to', 'it,', 'Horatio.'],\n",
       " ['Ber.',\n",
       "  'Looks',\n",
       "  'it',\n",
       "  'not',\n",
       "  'like',\n",
       "  'the',\n",
       "  'King?',\n",
       "  'Mark',\n",
       "  'it,',\n",
       "  'Horatio.'],\n",
       " ['Hor.',\n",
       "  'Most',\n",
       "  'like.',\n",
       "  'It',\n",
       "  'harrows',\n",
       "  'me',\n",
       "  'with',\n",
       "  'fear',\n",
       "  'and',\n",
       "  'wonder.'],\n",
       " ['Ber.', 'It', 'would', 'be', 'spoke', 'to.'],\n",
       " ['Mar.', 'Question', 'it,', 'Horatio.'],\n",
       " ['Hor.',\n",
       "  'What',\n",
       "  'art',\n",
       "  'thou',\n",
       "  'that',\n",
       "  \"usurp'st\",\n",
       "  'this',\n",
       "  'time',\n",
       "  'of',\n",
       "  'night'],\n",
       " ['Together', 'with', 'that', 'fair', 'and', 'warlike', 'form'],\n",
       " ['In', 'which', 'the', 'majesty', 'of', 'buried', 'Denmark'],\n",
       " ['Did',\n",
       "  'sometimes',\n",
       "  'march?',\n",
       "  'By',\n",
       "  'heaven',\n",
       "  'I',\n",
       "  'charge',\n",
       "  'thee',\n",
       "  'speak!'],\n",
       " ['Mar.', 'It', 'is', 'offended.'],\n",
       " ['Ber.', 'See,', 'it', 'stalks', 'away!'],\n",
       " ['Hor.', 'Stay!', 'Speak,', 'speak!', 'I', 'charge', 'thee', 'speak!'],\n",
       " ['Exit', 'Ghost.'],\n",
       " ['Mar.', \"'Tis\", 'gone', 'and', 'will', 'not', 'answer.'],\n",
       " ['Ber.', 'How', 'now,', 'Horatio?', 'You', 'tremble', 'and', 'look', 'pale.'],\n",
       " ['Is', 'not', 'this', 'something', 'more', 'than', 'fantasy?'],\n",
       " ['What', 'think', 'you', \"on't?\"],\n",
       " ['Hor.', 'Before', 'my', 'God,', 'I', 'might', 'not', 'this', 'believe'],\n",
       " ['Without', 'the', 'sensible', 'and', 'true', 'avouch'],\n",
       " ['Of', 'mine', 'own', 'eyes.'],\n",
       " ['Mar.', 'Is', 'it', 'not', 'like', 'the', 'King?'],\n",
       " ['Hor.', 'As', 'thou', 'art', 'to', 'thyself.'],\n",
       " ['Such', 'was', 'the', 'very', 'armour', 'he', 'had', 'on'],\n",
       " ['When', 'he', \"th'\", 'ambitious', 'Norway', 'combated.'],\n",
       " ['So', \"frown'd\", 'he', 'once', 'when,', 'in', 'an', 'angry', 'parle,'],\n",
       " ['He', 'smote', 'the', 'sledded', 'Polacks', 'on', 'the', 'ice.'],\n",
       " [\"'Tis\", 'strange.'],\n",
       " ['Mar.',\n",
       "  'Thus',\n",
       "  'twice',\n",
       "  'before,',\n",
       "  'and',\n",
       "  'jump',\n",
       "  'at',\n",
       "  'this',\n",
       "  'dead',\n",
       "  'hour,'],\n",
       " ['With', 'martial', 'stalk', 'hath', 'he', 'gone', 'by', 'our', 'watch.'],\n",
       " ['Hor.',\n",
       "  'In',\n",
       "  'what',\n",
       "  'particular',\n",
       "  'thought',\n",
       "  'to',\n",
       "  'work',\n",
       "  'I',\n",
       "  'know',\n",
       "  'not;'],\n",
       " ['But,', 'in', 'the', 'gross', 'and', 'scope', 'of', 'my', 'opinion,'],\n",
       " ['This', 'bodes', 'some', 'strange', 'eruption', 'to', 'our', 'state.'],\n",
       " ['Mar.',\n",
       "  'Good',\n",
       "  'now,',\n",
       "  'sit',\n",
       "  'down,',\n",
       "  'and',\n",
       "  'tell',\n",
       "  'me',\n",
       "  'he',\n",
       "  'that',\n",
       "  'knows,'],\n",
       " ['Why', 'this', 'same', 'strict', 'and', 'most', 'observant', 'watch'],\n",
       " ['So', 'nightly', 'toils', 'the', 'subject', 'of', 'the', 'land,'],\n",
       " ['And', 'why', 'such', 'daily', 'cast', 'of', 'brazen', 'cannon'],\n",
       " ['And', 'foreign', 'mart', 'for', 'implements', 'of', 'war;'],\n",
       " ['Why', 'such', 'impress', 'of', 'shipwrights,', 'whose', 'sore', 'task'],\n",
       " ['Does', 'not', 'divide', 'the', 'Sunday', 'from', 'the', 'week.'],\n",
       " ['What', 'might', 'be', 'toward,', 'that', 'this', 'sweaty', 'haste'],\n",
       " ['Doth', 'make', 'the', 'night', 'joint-labourer', 'with', 'the', 'day?'],\n",
       " ['Who', \"is't\", 'that', 'can', 'inform', 'me?'],\n",
       " ['Hor.', 'That', 'can', 'I.'],\n",
       " ['At', 'least,', 'the', 'whisper', 'goes', 'so.', 'Our', 'last', 'king,'],\n",
       " ['Whose', 'image', 'even', 'but', 'now', \"appear'd\", 'to', 'us,'],\n",
       " ['Was,', 'as', 'you', 'know,', 'by', 'Fortinbras', 'of', 'Norway,'],\n",
       " ['Thereto', \"prick'd\", 'on', 'by', 'a', 'most', 'emulate', 'pride,'],\n",
       " [\"Dar'd\", 'to', 'the', 'combat;', 'in', 'which', 'our', 'valiant', 'Hamlet'],\n",
       " ['(For',\n",
       "  'so',\n",
       "  'this',\n",
       "  'side',\n",
       "  'of',\n",
       "  'our',\n",
       "  'known',\n",
       "  'world',\n",
       "  \"esteem'd\",\n",
       "  'him)'],\n",
       " ['Did',\n",
       "  'slay',\n",
       "  'this',\n",
       "  'Fortinbras;',\n",
       "  'who,',\n",
       "  'by',\n",
       "  'a',\n",
       "  \"seal'd\",\n",
       "  'compact,'],\n",
       " ['Well', 'ratified', 'by', 'law', 'and', 'heraldry,'],\n",
       " ['Did', 'forfeit,', 'with', 'his', 'life,', 'all', 'those', 'his', 'lands'],\n",
       " ['Which', 'he', 'stood', \"seiz'd\", 'of,', 'to', 'the', 'conqueror;'],\n",
       " ['Against', 'the', 'which', 'a', 'moiety', 'competent'],\n",
       " ['Was', 'gaged', 'by', 'our', 'king;', 'which', 'had', \"return'd\"],\n",
       " ['To', 'the', 'inheritance', 'of', 'Fortinbras,'],\n",
       " ['Had', 'he', 'been', 'vanquisher,', 'as,', 'by', 'the', 'same', 'comart'],\n",
       " ['And', 'carriage', 'of', 'the', 'article', \"design'd,\"],\n",
       " ['His', 'fell', 'to', 'Hamlet.', 'Now,', 'sir,', 'young', 'Fortinbras,'],\n",
       " ['Of', 'unimproved', 'mettle', 'hot', 'and', 'full,'],\n",
       " ['Hath', 'in', 'the', 'skirts', 'of', 'Norway,', 'here', 'and', 'there,'],\n",
       " [\"Shark'd\", 'up', 'a', 'list', 'of', 'lawless', 'resolutes,'],\n",
       " ['For', 'food', 'and', 'diet,', 'to', 'some', 'enterprise'],\n",
       " ['That', 'hath', 'a', 'stomach', \"in't;\", 'which', 'is', 'no', 'other,'],\n",
       " ['As', 'it', 'doth', 'well', 'appear', 'unto', 'our', 'state,'],\n",
       " ['But', 'to', 'recover', 'of', 'us,', 'by', 'strong', 'hand'],\n",
       " ['And', 'terms', 'compulsatory,', 'those', 'foresaid', 'lands'],\n",
       " ['So', 'by', 'his', 'father', 'lost;', 'and', 'this,', 'I', 'take', 'it,'],\n",
       " ['Is', 'the', 'main', 'motive', 'of', 'our', 'preparations,'],\n",
       " ['The',\n",
       "  'source',\n",
       "  'of',\n",
       "  'this',\n",
       "  'our',\n",
       "  'watch,',\n",
       "  'and',\n",
       "  'the',\n",
       "  'chief',\n",
       "  'head'],\n",
       " ['Of', 'this', 'post-haste', 'and', 'romage', 'in', 'the', 'land.'],\n",
       " ['Ber.', 'I', 'think', 'it', 'be', 'no', 'other', 'but', \"e'en\", 'so.'],\n",
       " ['Well', 'may', 'it', 'sort', 'that', 'this', 'portentous', 'figure'],\n",
       " ['Comes', 'armed', 'through', 'our', 'watch,', 'so', 'like', 'the', 'King'],\n",
       " ['That', 'was', 'and', 'is', 'the', 'question', 'of', 'these', 'wars.'],\n",
       " ['Hor.', 'A', 'mote', 'it', 'is', 'to', 'trouble', 'the', \"mind's\", 'eye.'],\n",
       " ['In', 'the', 'most', 'high', 'and', 'palmy', 'state', 'of', 'Rome,'],\n",
       " ['A', 'little', 'ere', 'the', 'mightiest', 'Julius', 'fell,'],\n",
       " ['The', 'graves', 'stood', 'tenantless,', 'and', 'the', 'sheeted', 'dead'],\n",
       " ['Did', 'squeak', 'and', 'gibber', 'in', 'the', 'Roman', 'streets;'],\n",
       " ['As',\n",
       "  'stars',\n",
       "  'with',\n",
       "  'trains',\n",
       "  'of',\n",
       "  'fire,',\n",
       "  'and',\n",
       "  'dews',\n",
       "  'of',\n",
       "  'blood,'],\n",
       " ['Disasters', 'in', 'the', 'sun;', 'and', 'the', 'moist', 'star'],\n",
       " ['Upon', 'whose', 'influence', \"Neptune's\", 'empire', 'stands'],\n",
       " ['Was', 'sick', 'almost', 'to', 'doomsday', 'with', 'eclipse.'],\n",
       " ['And', 'even', 'the', 'like', 'precurse', 'of', 'fierce', 'events,'],\n",
       " ['As', 'harbingers', 'preceding', 'still', 'the', 'fates'],\n",
       " ['And', 'prologue', 'to', 'the', 'omen', 'coming', 'on,'],\n",
       " ['Have', 'heaven', 'and', 'earth', 'together', 'demonstrated'],\n",
       " ['Unto', 'our', 'climature', 'and', 'countrymen.'],\n",
       " [],\n",
       " ['Enter', 'Ghost', 'again.'],\n",
       " [],\n",
       " ['But', 'soft!', 'behold!', 'Lo,', 'where', 'it', 'comes', 'again!'],\n",
       " [\"I'll\",\n",
       "  'cross',\n",
       "  'it,',\n",
       "  'though',\n",
       "  'it',\n",
       "  'blast',\n",
       "  'me.-',\n",
       "  'Stay',\n",
       "  'illusion!'],\n",
       " ['Spreads', 'his', 'arms.'],\n",
       " ['If', 'thou', 'hast', 'any', 'sound,', 'or', 'use', 'of', 'voice,'],\n",
       " ['Speak', 'to', 'me.'],\n",
       " ['If', 'there', 'be', 'any', 'good', 'thing', 'to', 'be', 'done,'],\n",
       " ['That', 'may', 'to', 'thee', 'do', 'ease,', 'and,', 'race', 'to', 'me,'],\n",
       " ['Speak', 'to', 'me.'],\n",
       " ['If', 'thou', 'art', 'privy', 'to', 'thy', \"country's\", 'fate,'],\n",
       " ['Which', 'happily', 'foreknowing', 'may', 'avoid,'],\n",
       " ['O,', 'speak!'],\n",
       " ['Or', 'if', 'thou', 'hast', 'uphoarded', 'in', 'thy', 'life'],\n",
       " ['Extorted', 'treasure', 'in', 'the', 'womb', 'of', 'earth'],\n",
       " ['(For',\n",
       "  'which,',\n",
       "  'they',\n",
       "  'say,',\n",
       "  'you',\n",
       "  'spirits',\n",
       "  'oft',\n",
       "  'walk',\n",
       "  'in',\n",
       "  'death),'],\n",
       " ['The', 'cock', 'crows.'],\n",
       " ['Speak',\n",
       "  'of',\n",
       "  'it!',\n",
       "  'Stay,',\n",
       "  'and',\n",
       "  'speak!-',\n",
       "  'Stop',\n",
       "  'it,',\n",
       "  'Marcellus!'],\n",
       " ['Mar.', 'Shall', 'I', 'strike', 'at', 'it', 'with', 'my', 'partisan?'],\n",
       " ['Hor.', 'Do,', 'if', 'it', 'will', 'not', 'stand.'],\n",
       " ['Ber.', \"'Tis\", 'here!'],\n",
       " ['Hor.', \"'Tis\", 'here!'],\n",
       " ['Mar.', \"'Tis\", 'gone!'],\n",
       " ['Exit', 'Ghost.'],\n",
       " ['We', 'do', 'it', 'wrong,', 'being', 'so', 'majestical,'],\n",
       " ['To', 'offer', 'it', 'the', 'show', 'of', 'violence;'],\n",
       " ['For', 'it', 'is', 'as', 'the', 'air,', 'invulnerable,'],\n",
       " ['And', 'our', 'vain', 'blows', 'malicious', 'mockery.'],\n",
       " ['Ber.',\n",
       "  'It',\n",
       "  'was',\n",
       "  'about',\n",
       "  'to',\n",
       "  'speak,',\n",
       "  'when',\n",
       "  'the',\n",
       "  'cock',\n",
       "  'crew.'],\n",
       " ['Hor.', 'And', 'then', 'it', 'started,', 'like', 'a', 'guilty', 'thing'],\n",
       " ['Upon', 'a', 'fearful', 'summons.', 'I', 'have', 'heard'],\n",
       " ['The', 'cock,', 'that', 'is', 'the', 'trumpet', 'to', 'the', 'morn,'],\n",
       " ['Doth', 'with', 'his', 'lofty', 'and', 'shrill-sounding', 'throat'],\n",
       " ['Awake', 'the', 'god', 'of', 'day;', 'and', 'at', 'his', 'warning,'],\n",
       " ['Whether', 'in', 'sea', 'or', 'fire,', 'in', 'earth', 'or', 'air,'],\n",
       " [\"Th'\", 'extravagant', 'and', 'erring', 'spirit', 'hies'],\n",
       " ['To', 'his', 'confine;', 'and', 'of', 'the', 'truth', 'herein'],\n",
       " ['This', 'present', 'object', 'made', 'probation.'],\n",
       " ['Mar.', 'It', 'faded', 'on', 'the', 'crowing', 'of', 'the', 'cock.'],\n",
       " ['Some', 'say', 'that', 'ever,', \"'gainst\", 'that', 'season', 'comes'],\n",
       " ['Wherein', 'our', \"Saviour's\", 'birth', 'is', 'celebrated,'],\n",
       " ['The', 'bird', 'of', 'dawning', 'singeth', 'all', 'night', 'long;'],\n",
       " ['And', 'then,', 'they', 'say,', 'no', 'spirit', 'dare', 'stir', 'abroad,'],\n",
       " ['The', 'nights', 'are', 'wholesome,', 'then', 'no', 'planets', 'strike,'],\n",
       " ['No', 'fairy', 'takes,', 'nor', 'witch', 'hath', 'power', 'to', 'charm,'],\n",
       " ['So', \"hallow'd\", 'and', 'so', 'gracious', 'is', 'the', 'time.'],\n",
       " ['Hor.',\n",
       "  'So',\n",
       "  'have',\n",
       "  'I',\n",
       "  'heard',\n",
       "  'and',\n",
       "  'do',\n",
       "  'in',\n",
       "  'part',\n",
       "  'believe',\n",
       "  'it.'],\n",
       " ['But', 'look,', 'the', 'morn,', 'in', 'russet', 'mantle', 'clad,'],\n",
       " ['Walks', \"o'er\", 'the', 'dew', 'of', 'yon', 'high', 'eastward', 'hill.'],\n",
       " ['Break', 'we', 'our', 'watch', 'up;', 'and', 'by', 'my', 'advice'],\n",
       " ['Let', 'us', 'impart', 'what', 'we', 'have', 'seen', 'to-night'],\n",
       " ['Unto', 'young', 'Hamlet;', 'for,', 'upon', 'my', 'life,'],\n",
       " ['This', 'spirit,', 'dumb', 'to', 'us,', 'will', 'speak', 'to', 'him.'],\n",
       " ['Do', 'you', 'consent', 'we', 'shall', 'acquaint', 'him', 'with', 'it,'],\n",
       " ['As', 'needful', 'in', 'our', 'loves,', 'fitting', 'our', 'duty?'],\n",
       " [\"Let's\", \"do't,\", 'I', 'pray;', 'and', 'I', 'this', 'morning', 'know'],\n",
       " ['Where', 'we', 'shall', 'find', 'him', 'most', 'conveniently.', 'Exeunt.'],\n",
       " [],\n",
       " [],\n",
       " [],\n",
       " [],\n",
       " ['Scene', 'II.'],\n",
       " ['Elsinore.', 'A', 'room', 'of', 'state', 'in', 'the', 'Castle.'],\n",
       " [],\n",
       " ['Flourish.',\n",
       "  '[Enter',\n",
       "  'Claudius,',\n",
       "  'King',\n",
       "  'of',\n",
       "  'Denmark,',\n",
       "  'Gertrude',\n",
       "  'the',\n",
       "  'Queen,',\n",
       "  'Hamlet,'],\n",
       " ['Polonius,',\n",
       "  'Laertes',\n",
       "  'and',\n",
       "  'his',\n",
       "  'sister',\n",
       "  'Ophelia,',\n",
       "  '[Voltemand,',\n",
       "  'Cornelius,]'],\n",
       " ['Lords', 'Attendant.'],\n",
       " [],\n",
       " ['King.',\n",
       "  'Though',\n",
       "  'yet',\n",
       "  'of',\n",
       "  'Hamlet',\n",
       "  'our',\n",
       "  'dear',\n",
       "  \"brother's\",\n",
       "  'death'],\n",
       " ['The', 'memory', 'be', 'green,', 'and', 'that', 'it', 'us', 'befitted'],\n",
       " ['To',\n",
       "  'bear',\n",
       "  'our',\n",
       "  'hearts',\n",
       "  'in',\n",
       "  'grief,',\n",
       "  'and',\n",
       "  'our',\n",
       "  'whole',\n",
       "  'kingdom'],\n",
       " ['To', 'be', 'contracted', 'in', 'one', 'brow', 'of', 'woe,'],\n",
       " ['Yet', 'so', 'far', 'hath', 'discretion', 'fought', 'with', 'nature'],\n",
       " ['That', 'we', 'with', 'wisest', 'sorrow', 'think', 'on', 'him'],\n",
       " ['Together', 'with', 'remembrance', 'of', 'ourselves.'],\n",
       " ['Therefore', 'our', 'sometime', 'sister,', 'now', 'our', 'queen,'],\n",
       " [\"Th'\", 'imperial', 'jointress', 'to', 'this', 'warlike', 'state,'],\n",
       " ['Have', 'we,', 'as', \"'twere\", 'with', 'a', 'defeated', 'joy,'],\n",
       " ['With', 'an', 'auspicious,', 'and', 'a', 'dropping', 'eye,'],\n",
       " ['With',\n",
       "  'mirth',\n",
       "  'in',\n",
       "  'funeral,',\n",
       "  'and',\n",
       "  'with',\n",
       "  'dirge',\n",
       "  'in',\n",
       "  'marriage,'],\n",
       " ['In', 'equal', 'scale', 'weighing', 'delight', 'and', 'dole,'],\n",
       " ['Taken', 'to', 'wife;', 'nor', 'have', 'we', 'herein', \"barr'd\"],\n",
       " ['Your', 'better', 'wisdoms,', 'which', 'have', 'freely', 'gone'],\n",
       " ['With', 'this', 'affair', 'along.', 'For', 'all,', 'our', 'thanks.'],\n",
       " ['Now', 'follows,', 'that', 'you', 'know,', 'young', 'Fortinbras,'],\n",
       " ['Holding', 'a', 'weak', 'supposal', 'of', 'our', 'worth,'],\n",
       " ['Or', 'thinking', 'by', 'our', 'late', 'dear', \"brother's\", 'death'],\n",
       " ['Our', 'state', 'to', 'be', 'disjoint', 'and', 'out', 'of', 'frame,'],\n",
       " ['Colleagued', 'with', 'this', 'dream', 'of', 'his', 'advantage,'],\n",
       " ['He', 'hath', 'not', \"fail'd\", 'to', 'pester', 'us', 'with', 'message'],\n",
       " ['Importing', 'the', 'surrender', 'of', 'those', 'lands'],\n",
       " ['Lost', 'by', 'his', 'father,', 'with', 'all', 'bands', 'of', 'law,'],\n",
       " ['To', 'our', 'most', 'valiant', 'brother.', 'So', 'much', 'for', 'him.'],\n",
       " ['Now', 'for', 'ourself', 'and', 'for', 'this', 'time', 'of', 'meeting.'],\n",
       " ['Thus', 'much', 'the', 'business', 'is:', 'we', 'have', 'here', 'writ'],\n",
       " ['To', 'Norway,', 'uncle', 'of', 'young', 'Fortinbras,'],\n",
       " ['Who,', 'impotent', 'and', 'bedrid,', 'scarcely', 'hears'],\n",
       " ['Of', 'this', 'his', \"nephew's\", 'purpose,', 'to', 'suppress'],\n",
       " ['His', 'further', 'gait', 'herein,', 'in', 'that', 'the', 'levies,'],\n",
       " ['The', 'lists,', 'and', 'full', 'proportions', 'are', 'all', 'made'],\n",
       " ['Out', 'of', 'his', 'subject;', 'and', 'we', 'here', 'dispatch'],\n",
       " ['You,', 'good', 'Cornelius,', 'and', 'you,', 'Voltemand,'],\n",
       " ['For', 'bearers', 'of', 'this', 'greeting', 'to', 'old', 'Norway,'],\n",
       " ['Giving', 'to', 'you', 'no', 'further', 'personal', 'power'],\n",
       " ['To', 'business', 'with', 'the', 'King,', 'more', 'than', 'the', 'scope'],\n",
       " ['Of', 'these', 'dilated', 'articles', 'allow.', '[Gives', 'a', 'paper.]'],\n",
       " ['Farewell,', 'and', 'let', 'your', 'haste', 'commend', 'your', 'duty.'],\n",
       " ['Cor.,',\n",
       "  'Volt.',\n",
       "  'In',\n",
       "  'that,',\n",
       "  'and',\n",
       "  'all',\n",
       "  'things,',\n",
       "  'will',\n",
       "  'we',\n",
       "  'show',\n",
       "  'our',\n",
       "  'duty.'],\n",
       " ['King.', 'We', 'doubt', 'it', 'nothing.', 'Heartily', 'farewell.'],\n",
       " ['Exeunt', 'Voltemand', 'and', 'Cornelius.'],\n",
       " ['And', 'now,', 'Laertes,', \"what's\", 'the', 'news', 'with', 'you?'],\n",
       " ['You', 'told', 'us', 'of', 'some', 'suit.', 'What', \"is't,\", 'Laertes?'],\n",
       " ['You', 'cannot', 'speak', 'of', 'reason', 'to', 'the', 'Dane'],\n",
       " ['And',\n",
       "  'lose',\n",
       "  'your',\n",
       "  'voice.',\n",
       "  'What',\n",
       "  'wouldst',\n",
       "  'thou',\n",
       "  'beg,',\n",
       "  'Laertes,'],\n",
       " ['That', 'shall', 'not', 'be', 'my', 'offer,', 'not', 'thy', 'asking?'],\n",
       " ['The', 'head', 'is', 'not', 'more', 'native', 'to', 'the', 'heart,'],\n",
       " ['The', 'hand', 'more', 'instrumental', 'to', 'the', 'mouth,'],\n",
       " ['Than', 'is', 'the', 'throne', 'of', 'Denmark', 'to', 'thy', 'father.'],\n",
       " ['What', 'wouldst', 'thou', 'have,', 'Laertes?'],\n",
       " ['Laer.', 'My', 'dread', 'lord,'],\n",
       " ['Your', 'leave', 'and', 'favour', 'to', 'return', 'to', 'France;'],\n",
       " ['From', 'whence', 'though', 'willingly', 'I', 'came', 'to', 'Denmark'],\n",
       " ['To', 'show', 'my', 'duty', 'in', 'your', 'coronation,'],\n",
       " ['Yet', 'now', 'I', 'must', 'confess,', 'that', 'duty', 'done,'],\n",
       " ['My', 'thoughts', 'and', 'wishes', 'bend', 'again', 'toward', 'France'],\n",
       " ['And', 'bow', 'them', 'to', 'your', 'gracious', 'leave', 'and', 'pardon.'],\n",
       " ['King.',\n",
       "  'Have',\n",
       "  'you',\n",
       "  'your',\n",
       "  \"father's\",\n",
       "  'leave?',\n",
       "  'What',\n",
       "  'says',\n",
       "  'Polonius?'],\n",
       " ['Pol.',\n",
       "  'He',\n",
       "  'hath,',\n",
       "  'my',\n",
       "  'lord,',\n",
       "  'wrung',\n",
       "  'from',\n",
       "  'me',\n",
       "  'my',\n",
       "  'slow',\n",
       "  'leave'],\n",
       " ['By', 'laboursome', 'petition,', 'and', 'at', 'last'],\n",
       " ['Upon', 'his', 'will', 'I', \"seal'd\", 'my', 'hard', 'consent.'],\n",
       " ['I', 'do', 'beseech', 'you', 'give', 'him', 'leave', 'to', 'go.'],\n",
       " ['King.', 'Take', 'thy', 'fair', 'hour,', 'Laertes.', 'Time', 'be', 'thine,'],\n",
       " ['And', 'thy', 'best', 'graces', 'spend', 'it', 'at', 'thy', 'will!'],\n",
       " ['But', 'now,', 'my', 'cousin', 'Hamlet,', 'and', 'my', 'son-'],\n",
       " ['Ham.',\n",
       "  '[aside]',\n",
       "  'A',\n",
       "  'little',\n",
       "  'more',\n",
       "  'than',\n",
       "  'kin,',\n",
       "  'and',\n",
       "  'less',\n",
       "  'than',\n",
       "  'kind!'],\n",
       " ['King.',\n",
       "  'How',\n",
       "  'is',\n",
       "  'it',\n",
       "  'that',\n",
       "  'the',\n",
       "  'clouds',\n",
       "  'still',\n",
       "  'hang',\n",
       "  'on',\n",
       "  'you?'],\n",
       " ['Ham.',\n",
       "  'Not',\n",
       "  'so,',\n",
       "  'my',\n",
       "  'lord.',\n",
       "  'I',\n",
       "  'am',\n",
       "  'too',\n",
       "  'much',\n",
       "  \"i'\",\n",
       "  \"th'\",\n",
       "  'sun.'],\n",
       " ['Queen.', 'Good', 'Hamlet,', 'cast', 'thy', 'nighted', 'colour', 'off,'],\n",
       " ['And',\n",
       "  'let',\n",
       "  'thine',\n",
       "  'eye',\n",
       "  'look',\n",
       "  'like',\n",
       "  'a',\n",
       "  'friend',\n",
       "  'on',\n",
       "  'Denmark.'],\n",
       " ['Do', 'not', 'for', 'ever', 'with', 'thy', 'vailed', 'lids'],\n",
       " ['Seek', 'for', 'thy', 'noble', 'father', 'in', 'the', 'dust.'],\n",
       " ['Thou',\n",
       "  \"know'st\",\n",
       "  \"'tis\",\n",
       "  'common.',\n",
       "  'All',\n",
       "  'that',\n",
       "  'lives',\n",
       "  'must',\n",
       "  'die,'],\n",
       " ['Passing', 'through', 'nature', 'to', 'eternity.'],\n",
       " ['Ham.', 'Ay,', 'madam,', 'it', 'is', 'common.'],\n",
       " ['Queen.', 'If', 'it', 'be,'],\n",
       " ['Why', 'seems', 'it', 'so', 'particular', 'with', 'thee?'],\n",
       " ['Ham.',\n",
       "  'Seems,',\n",
       "  'madam,',\n",
       "  'Nay,',\n",
       "  'it',\n",
       "  'is.',\n",
       "  'I',\n",
       "  'know',\n",
       "  'not',\n",
       "  \"'seems.'\"],\n",
       " [\"'Tis\", 'not', 'alone', 'my', 'inky', 'cloak,', 'good', 'mother,'],\n",
       " ['Nor', 'customary', 'suits', 'of', 'solemn', 'black,'],\n",
       " ['Nor', 'windy', 'suspiration', 'of', \"forc'd\", 'breath,'],\n",
       " ['No,', 'nor', 'the', 'fruitful', 'river', 'in', 'the', 'eye,'],\n",
       " ['Nor', 'the', 'dejected', 'havior', 'of', 'the', 'visage,'],\n",
       " ['Together', 'with', 'all', 'forms,', 'moods,', 'shapes', 'of', 'grief,'],\n",
       " [\"'That\", 'can', 'denote', 'me', 'truly.', 'These', 'indeed', 'seem,'],\n",
       " ['For', 'they', 'are', 'actions', 'that', 'a', 'man', 'might', 'play;'],\n",
       " ['But', 'I', 'have', 'that', 'within', 'which', 'passeth', 'show-'],\n",
       " ['These', 'but', 'the', 'trappings', 'and', 'the', 'suits', 'of', 'woe.'],\n",
       " ['King.',\n",
       "  \"'Tis\",\n",
       "  'sweet',\n",
       "  'and',\n",
       "  'commendable',\n",
       "  'in',\n",
       "  'your',\n",
       "  'nature,',\n",
       "  'Hamlet,'],\n",
       " ['To', 'give', 'these', 'mourning', 'duties', 'to', 'your', 'father;'],\n",
       " ['But', 'you', 'must', 'know,', 'your', 'father', 'lost', 'a', 'father;'],\n",
       " ['That',\n",
       "  'father',\n",
       "  'lost,',\n",
       "  'lost',\n",
       "  'his,',\n",
       "  'and',\n",
       "  'the',\n",
       "  'survivor',\n",
       "  'bound'],\n",
       " ['In', 'filial', 'obligation', 'for', 'some', 'term'],\n",
       " ['To', 'do', 'obsequious', 'sorrow.', 'But', 'to', 'persever'],\n",
       " ['In', 'obstinate', 'condolement', 'is', 'a', 'course'],\n",
       " ['Of', 'impious', 'stubbornness.', \"'Tis\", 'unmanly', 'grief;'],\n",
       " ['It', 'shows', 'a', 'will', 'most', 'incorrect', 'to', 'heaven,'],\n",
       " ['A', 'heart', 'unfortified,', 'a', 'mind', 'impatient,'],\n",
       " ['An', 'understanding', 'simple', 'and', \"unschool'd;\"],\n",
       " ['For', 'what', 'we', 'know', 'must', 'be,', 'and', 'is', 'as', 'common'],\n",
       " ['As', 'any', 'the', 'most', 'vulgar', 'thing', 'to', 'sense,'],\n",
       " ['Why', 'should', 'we', 'in', 'our', 'peevish', 'opposition'],\n",
       " ['Take', 'it', 'to', 'heart?', 'Fie!', \"'tis\", 'a', 'fault', 'to', 'heaven,'],\n",
       " ['A', 'fault', 'against', 'the', 'dead,', 'a', 'fault', 'to', 'nature,'],\n",
       " ['To', 'reason', 'most', 'absurd,', 'whose', 'common', 'theme'],\n",
       " ['Is', 'death', 'of', 'fathers,', 'and', 'who', 'still', 'hath', 'cried,'],\n",
       " ['From', 'the', 'first', 'corse', 'till', 'he', 'that', 'died', 'to-day,'],\n",
       " [\"'This\", 'must', 'be', \"so.'\", 'We', 'pray', 'you', 'throw', 'to', 'earth'],\n",
       " ['This', 'unprevailing', 'woe,', 'and', 'think', 'of', 'us'],\n",
       " ['As', 'of', 'a', 'father;', 'for', 'let', 'the', 'world', 'take', 'note'],\n",
       " ['You', 'are', 'the', 'most', 'immediate', 'to', 'our', 'throne,'],\n",
       " ['And', 'with', 'no', 'less', 'nobility', 'of', 'love'],\n",
       " ['Than', 'that', 'which', 'dearest', 'father', 'bears', 'his', 'son'],\n",
       " ['Do', 'I', 'impart', 'toward', 'you.', 'For', 'your', 'intent'],\n",
       " ['In', 'going', 'back', 'to', 'school', 'in', 'Wittenberg,'],\n",
       " ['It', 'is', 'most', 'retrograde', 'to', 'our', 'desire;'],\n",
       " ['And', 'we', 'beseech', 'you,', 'bend', 'you', 'to', 'remain'],\n",
       " ['Here', 'in', 'the', 'cheer', 'and', 'comfort', 'of', 'our', 'eye,'],\n",
       " ['Our', 'chiefest', 'courtier,', 'cousin,', 'and', 'our', 'son.'],\n",
       " ['Queen.',\n",
       "  'Let',\n",
       "  'not',\n",
       "  'thy',\n",
       "  'mother',\n",
       "  'lose',\n",
       "  'her',\n",
       "  'prayers,',\n",
       "  'Hamlet.'],\n",
       " ['I',\n",
       "  'pray',\n",
       "  'thee',\n",
       "  'stay',\n",
       "  'with',\n",
       "  'us,',\n",
       "  'go',\n",
       "  'not',\n",
       "  'to',\n",
       "  'Wittenberg.'],\n",
       " ['Ham.', 'I', 'shall', 'in', 'all', 'my', 'best', 'obey', 'you,', 'madam.'],\n",
       " ['King.', 'Why,', \"'tis\", 'a', 'loving', 'and', 'a', 'fair', 'reply.'],\n",
       " ['Be', 'as', 'ourself', 'in', 'Denmark.', 'Madam,', 'come.'],\n",
       " ['This', 'gentle', 'and', \"unforc'd\", 'accord', 'of', 'Hamlet'],\n",
       " ['Sits', 'smiling', 'to', 'my', 'heart;', 'in', 'grace', 'whereof,'],\n",
       " ['No', 'jocund', 'health', 'that', 'Denmark', 'drinks', 'to-day'],\n",
       " ['But', 'the', 'great', 'cannon', 'to', 'the', 'clouds', 'shall', 'tell,'],\n",
       " ['And',\n",
       "  'the',\n",
       "  \"King's\",\n",
       "  'rouse',\n",
       "  'the',\n",
       "  'heaven',\n",
       "  'shall',\n",
       "  'bruit',\n",
       "  'again,'],\n",
       " ['Respeaking', 'earthly', 'thunder.', 'Come', 'away.'],\n",
       " ['Flourish.', 'Exeunt', 'all', 'but', 'Hamlet.'],\n",
       " ['Ham.',\n",
       "  'O',\n",
       "  'that',\n",
       "  'this',\n",
       "  'too',\n",
       "  'too',\n",
       "  'solid',\n",
       "  'flesh',\n",
       "  'would',\n",
       "  'melt,'],\n",
       " ['Thaw,', 'and', 'resolve', 'itself', 'into', 'a', 'dew!'],\n",
       " ['Or', 'that', 'the', 'Everlasting', 'had', 'not', \"fix'd\"],\n",
       " ['His', 'canon', \"'gainst\", 'self-slaughter!', 'O', 'God!', 'God!'],\n",
       " ['How', 'weary,', 'stale,', 'flat,', 'and', 'unprofitable'],\n",
       " ['Seem', 'to', 'me', 'all', 'the', 'uses', 'of', 'this', 'world!'],\n",
       " ['Fie', \"on't!\", 'ah,', 'fie!', \"'Tis\", 'an', 'unweeded', 'garden'],\n",
       " ['That',\n",
       "  'grows',\n",
       "  'to',\n",
       "  'seed;',\n",
       "  'things',\n",
       "  'rank',\n",
       "  'and',\n",
       "  'gross',\n",
       "  'in',\n",
       "  'nature'],\n",
       " ['Possess', 'it', 'merely.', 'That', 'it', 'should', 'come', 'to', 'this!'],\n",
       " ['But',\n",
       "  'two',\n",
       "  'months',\n",
       "  'dead!',\n",
       "  'Nay,',\n",
       "  'not',\n",
       "  'so',\n",
       "  'much,',\n",
       "  'not',\n",
       "  'two.'],\n",
       " ['So', 'excellent', 'a', 'king,', 'that', 'was', 'to', 'this'],\n",
       " ['Hyperion', 'to', 'a', 'satyr;', 'so', 'loving', 'to', 'my', 'mother'],\n",
       " ['That', 'he', 'might', 'not', 'beteem', 'the', 'winds', 'of', 'heaven'],\n",
       " ['Visit', 'her', 'face', 'too', 'roughly.', 'Heaven', 'and', 'earth!'],\n",
       " ['Must', 'I', 'remember?', 'Why,', 'she', 'would', 'hang', 'on', 'him'],\n",
       " ['As', 'if', 'increase', 'of', 'appetite', 'had', 'grown'],\n",
       " ['By', 'what', 'it', 'fed', 'on;', 'and', 'yet,', 'within', 'a', 'month-'],\n",
       " ['Let',\n",
       "  'me',\n",
       "  'not',\n",
       "  'think',\n",
       "  \"on't!\",\n",
       "  'Frailty,',\n",
       "  'thy',\n",
       "  'name',\n",
       "  'is',\n",
       "  'woman!-'],\n",
       " ['A', 'little', 'month,', 'or', 'ere', 'those', 'shoes', 'were', 'old'],\n",
       " ['With', 'which', 'she', 'followed', 'my', 'poor', \"father's\", 'body'],\n",
       " ['Like', 'Niobe,', 'all', 'tears-', 'why', 'she,', 'even', 'she'],\n",
       " ['(O', 'God!', 'a', 'beast', 'that', 'wants', 'discourse', 'of', 'reason'],\n",
       " ['Would', 'have', \"mourn'd\", 'longer)', 'married', 'with', 'my', 'uncle;'],\n",
       " ['My', \"father's\", 'brother,', 'but', 'no', 'more', 'like', 'my', 'father'],\n",
       " ['Than', 'I', 'to', 'Hercules.', 'Within', 'a', 'month,'],\n",
       " ['Ere', 'yet', 'the', 'salt', 'of', 'most', 'unrighteous', 'tears'],\n",
       " ['Had', 'left', 'the', 'flushing', 'in', 'her', 'galled', 'eyes,'],\n",
       " ['She', 'married.', 'O,', 'most', 'wicked', 'speed,', 'to', 'post'],\n",
       " ['With', 'such', 'dexterity', 'to', 'incestuous', 'sheets!'],\n",
       " ['It', 'is', 'not,', 'nor', 'it', 'cannot', 'come', 'to', 'good.'],\n",
       " ['But', 'break', 'my', 'heart,', 'for', 'I', 'must', 'hold', 'my', 'tongue!'],\n",
       " [],\n",
       " ['Enter', 'Horatio,', 'Marcellus,', 'and', 'Bernardo.'],\n",
       " [],\n",
       " ['Hor.', 'Hail', 'to', 'your', 'lordship!'],\n",
       " ['Ham.', 'I', 'am', 'glad', 'to', 'see', 'you', 'well.'],\n",
       " ['Horatio!-', 'or', 'I', 'do', 'forget', 'myself.'],\n",
       " ['Hor.',\n",
       "  'The',\n",
       "  'same,',\n",
       "  'my',\n",
       "  'lord,',\n",
       "  'and',\n",
       "  'your',\n",
       "  'poor',\n",
       "  'servant',\n",
       "  'ever.'],\n",
       " ['Ham.',\n",
       "  'Sir,',\n",
       "  'my',\n",
       "  'good',\n",
       "  'friend-',\n",
       "  \"I'll\",\n",
       "  'change',\n",
       "  'that',\n",
       "  'name',\n",
       "  'with',\n",
       "  'you.'],\n",
       " ['And', 'what', 'make', 'you', 'from', 'Wittenberg,', 'Horatio?'],\n",
       " ['Marcellus?'],\n",
       " ['Mar.', 'My', 'good', 'lord!'],\n",
       " ['Ham.',\n",
       "  'I',\n",
       "  'am',\n",
       "  'very',\n",
       "  'glad',\n",
       "  'to',\n",
       "  'see',\n",
       "  'you.-',\n",
       "  '[To',\n",
       "  'Bernardo]',\n",
       "  'Good',\n",
       "  'even,',\n",
       "  'sir.-'],\n",
       " ['But', 'what,', 'in', 'faith,', 'make', 'you', 'from', 'Wittenberg?'],\n",
       " ['Hor.', 'A', 'truant', 'disposition,', 'good', 'my', 'lord.'],\n",
       " ['Ham.', 'I', 'would', 'not', 'hear', 'your', 'enemy', 'say', 'so,'],\n",
       " ['Nor', 'shall', 'you', 'do', 'my', 'ear', 'that', 'violence'],\n",
       " ['To', 'make', 'it', 'truster', 'of', 'your', 'own', 'report'],\n",
       " ['Against', 'yourself.', 'I', 'know', 'you', 'are', 'no', 'truant.'],\n",
       " ['But', 'what', 'is', 'your', 'affair', 'in', 'Elsinore?'],\n",
       " [\"We'll\", 'teach', 'you', 'to', 'drink', 'deep', 'ere', 'you', 'depart.'],\n",
       " ['Hor.',\n",
       "  'My',\n",
       "  'lord,',\n",
       "  'I',\n",
       "  'came',\n",
       "  'to',\n",
       "  'see',\n",
       "  'your',\n",
       "  \"father's\",\n",
       "  'funeral.'],\n",
       " ['Ham.', 'I', 'prithee', 'do', 'not', 'mock', 'me,', 'fellow', 'student.'],\n",
       " ['I', 'think', 'it', 'was', 'to', 'see', 'my', \"mother's\", 'wedding.'],\n",
       " ['Hor.', 'Indeed,', 'my', 'lord,', 'it', 'followed', 'hard', 'upon.'],\n",
       " ['Ham.',\n",
       "  'Thrift,',\n",
       "  'thrift,',\n",
       "  'Horatio!',\n",
       "  'The',\n",
       "  'funeral',\n",
       "  \"bak'd\",\n",
       "  'meats'],\n",
       " ['Did', 'coldly', 'furnish', 'forth', 'the', 'marriage', 'tables.'],\n",
       " ['Would', 'I', 'had', 'met', 'my', 'dearest', 'foe', 'in', 'heaven'],\n",
       " ['Or', 'ever', 'I', 'had', 'seen', 'that', 'day,', 'Horatio!'],\n",
       " ['My', 'father-', 'methinks', 'I', 'see', 'my', 'father.'],\n",
       " ['Hor.', 'O,', 'where,', 'my', 'lord?'],\n",
       " ['Ham.', 'In', 'my', \"mind's\", 'eye,', 'Horatio.'],\n",
       " ['Hor.', 'I', 'saw', 'him', 'once.', 'He', 'was', 'a', 'goodly', 'king.'],\n",
       " ['Ham.', 'He', 'was', 'a', 'man,', 'take', 'him', 'for', 'all', 'in', 'all.'],\n",
       " ['I', 'shall', 'not', 'look', 'upon', 'his', 'like', 'again.'],\n",
       " ['Hor.', 'My', 'lord,', 'I', 'think', 'I', 'saw', 'him', 'yesternight.'],\n",
       " ['Ham.', 'Saw?', 'who?'],\n",
       " ['Hor.', 'My', 'lord,', 'the', 'King', 'your', 'father.'],\n",
       " ['Ham.', 'The', 'King', 'my', 'father?'],\n",
       " ['Hor.', 'Season', 'your', 'admiration', 'for', 'a', 'while'],\n",
       " ['With', 'an', 'attent', 'ear,', 'till', 'I', 'may', 'deliver'],\n",
       " ['Upon', 'the', 'witness', 'of', 'these', 'gentlemen,'],\n",
       " ['This', 'marvel', 'to', 'you.'],\n",
       " ['Ham.', 'For', \"God's\", 'love', 'let', 'me', 'hear!'],\n",
       " ['Hor.', 'Two', 'nights', 'together', 'had', 'these', 'gentlemen'],\n",
       " ['(Marcellus', 'and', 'Bernardo)', 'on', 'their', 'watch'],\n",
       " ['In', 'the', 'dead', 'vast', 'and', 'middle', 'of', 'the', 'night'],\n",
       " ['Been', 'thus', \"encount'red.\", 'A', 'figure', 'like', 'your', 'father,'],\n",
       " ['Armed', 'at', 'point', 'exactly,', 'cap-a-pe,'],\n",
       " ['Appears', 'before', 'them', 'and', 'with', 'solemn', 'march'],\n",
       " ['Goes', 'slow', 'and', 'stately', 'by', 'them.', 'Thrice', 'he', \"walk'd\"],\n",
       " ['By', 'their', \"oppress'd\", 'and', 'fear-surprised', 'eyes,'],\n",
       " ['Within', 'his', \"truncheon's\", 'length;', 'whilst', 'they', \"distill'd\"],\n",
       " ['Almost', 'to', 'jelly', 'with', 'the', 'act', 'of', 'fear,'],\n",
       " ['Stand', 'dumb', 'and', 'speak', 'not', 'to', 'him.', 'This', 'to', 'me'],\n",
       " ['In', 'dreadful', 'secrecy', 'impart', 'they', 'did,'],\n",
       " ['And',\n",
       "  'I',\n",
       "  'with',\n",
       "  'them',\n",
       "  'the',\n",
       "  'third',\n",
       "  'night',\n",
       "  'kept',\n",
       "  'the',\n",
       "  'watch;'],\n",
       " ['Where,', 'as', 'they', 'had', \"deliver'd,\", 'both', 'in', 'time,'],\n",
       " ['Form',\n",
       "  'of',\n",
       "  'the',\n",
       "  'thing,',\n",
       "  'each',\n",
       "  'word',\n",
       "  'made',\n",
       "  'true',\n",
       "  'and',\n",
       "  'good,'],\n",
       " ['The', 'apparition', 'comes.', 'I', 'knew', 'your', 'father.'],\n",
       " ['These', 'hands', 'are', 'not', 'more', 'like.'],\n",
       " ['Ham.', 'But', 'where', 'was', 'this?'],\n",
       " ['Mar.', 'My', 'lord,', 'upon', 'the', 'platform', 'where', 'we', \"watch'd.\"],\n",
       " ['Ham.', 'Did', 'you', 'not', 'speak', 'to', 'it?'],\n",
       " ['Hor.', 'My', 'lord,', 'I', 'did;'],\n",
       " ['But', 'answer', 'made', 'it', 'none.', 'Yet', 'once', 'methought'],\n",
       " ['It', 'lifted', 'up', 'it', 'head', 'and', 'did', 'address'],\n",
       " ['Itself', 'to', 'motion,', 'like', 'as', 'it', 'would', 'speak;'],\n",
       " ['But', 'even', 'then', 'the', 'morning', 'cock', 'crew', 'loud,'],\n",
       " ['And', 'at', 'the', 'sound', 'it', 'shrunk', 'in', 'haste', 'away'],\n",
       " ['And', \"vanish'd\", 'from', 'our', 'sight.'],\n",
       " ['Ham.', \"'Tis\", 'very', 'strange.'],\n",
       " ['Hor.',\n",
       "  'As',\n",
       "  'I',\n",
       "  'do',\n",
       "  'live,',\n",
       "  'my',\n",
       "  \"honour'd\",\n",
       "  'lord,',\n",
       "  \"'tis\",\n",
       "  'true;'],\n",
       " ['And', 'we', 'did', 'think', 'it', 'writ', 'down', 'in', 'our', 'duty'],\n",
       " ['To', 'let', 'you', 'know', 'of', 'it.'],\n",
       " ['Ham.', 'Indeed,', 'indeed,', 'sirs.', 'But', 'this', 'troubles', 'me.'],\n",
       " ['Hold', 'you', 'the', 'watch', 'to-night?'],\n",
       " ['Both', '[Mar.', 'and', 'Ber.]', 'We', 'do,', 'my', 'lord.'],\n",
       " ['Ham.', \"Arm'd,\", 'say', 'you?'],\n",
       " ['Both.', \"Arm'd,\", 'my', 'lord.'],\n",
       " ['Ham.', 'From', 'top', 'to', 'toe?'],\n",
       " ['Both.', 'My', 'lord,', 'from', 'head', 'to', 'foot.'],\n",
       " ['Ham.', 'Then', 'saw', 'you', 'not', 'his', 'face?'],\n",
       " ['Hor.', 'O,', 'yes,', 'my', 'lord!', 'He', 'wore', 'his', 'beaver', 'up.'],\n",
       " ['Ham.', 'What,', \"look'd\", 'he', 'frowningly.'],\n",
       " ['Hor.', 'A', 'countenance', 'more', 'in', 'sorrow', 'than', 'in', 'anger.'],\n",
       " ['Ham.', 'Pale', 'or', 'red?'],\n",
       " ['Hor.', 'Nay,', 'very', 'pale.'],\n",
       " ['Ham.', 'And', \"fix'd\", 'his', 'eyes', 'upon', 'you?'],\n",
       " ['Hor.', 'Most', 'constantly.'],\n",
       " ['Ham.', 'I', 'would', 'I', 'had', 'been', 'there.'],\n",
       " ['Hor.', 'It', 'would', 'have', 'much', \"amaz'd\", 'you.'],\n",
       " ['Ham.', 'Very', 'like,', 'very', 'like.', \"Stay'd\", 'it', 'long?'],\n",
       " ['Hor.',\n",
       "  'While',\n",
       "  'one',\n",
       "  'with',\n",
       "  'moderate',\n",
       "  'haste',\n",
       "  'might',\n",
       "  'tell',\n",
       "  'a',\n",
       "  'hundred.'],\n",
       " ['Both.', 'Longer,', 'longer.'],\n",
       " ['Hor.', 'Not', 'when', 'I', \"saw't.\"],\n",
       " ['Ham.', 'His', 'beard', 'was', 'grizzled-', 'no?'],\n",
       " ['Hor.', 'It', 'was,', 'as', 'I', 'have', 'seen', 'it', 'in', 'his', 'life,'],\n",
       " ['A', 'sable', \"silver'd.\"],\n",
       " ['Ham.', 'I', 'will', 'watch', 'to-night.'],\n",
       " ['Perchance', \"'twill\", 'walk', 'again.'],\n",
       " ['Hor.', 'I', \"warr'nt\", 'it', 'will.'],\n",
       " ['Ham.', 'If', 'it', 'assume', 'my', 'noble', \"father's\", 'person,'],\n",
       " [\"I'll\", 'speak', 'to', 'it,', 'though', 'hell', 'itself', 'should', 'gape'],\n",
       " ['And', 'bid', 'me', 'hold', 'my', 'peace.', 'I', 'pray', 'you', 'all,'],\n",
       " ['If', 'you', 'have', 'hitherto', \"conceal'd\", 'this', 'sight,'],\n",
       " ['Let', 'it', 'be', 'tenable', 'in', 'your', 'silence', 'still;'],\n",
       " ['And', 'whatsoever', 'else', 'shall', 'hap', 'to-night,'],\n",
       " ['Give', 'it', 'an', 'understanding', 'but', 'no', 'tongue.'],\n",
       " ['I', 'will', 'requite', 'your', 'loves.', 'So,', 'fare', 'you', 'well.'],\n",
       " ['Upon', 'the', 'platform,', \"'twixt\", 'eleven', 'and', 'twelve,'],\n",
       " [\"I'll\", 'visit', 'you.'],\n",
       " ['All.', 'Our', 'duty', 'to', 'your', 'honour.'],\n",
       " ['Ham.', 'Your', 'loves,', 'as', 'mine', 'to', 'you.', 'Farewell.'],\n",
       " ['Exeunt', '[all', 'but', 'Hamlet].'],\n",
       " ['My', \"father's\", 'spirit-', 'in', 'arms?', 'All', 'is', 'not', 'well.'],\n",
       " ['I',\n",
       "  'doubt',\n",
       "  'some',\n",
       "  'foul',\n",
       "  'play.',\n",
       "  'Would',\n",
       "  'the',\n",
       "  'night',\n",
       "  'were',\n",
       "  'come!'],\n",
       " ['Till',\n",
       "  'then',\n",
       "  'sit',\n",
       "  'still,',\n",
       "  'my',\n",
       "  'soul.',\n",
       "  'Foul',\n",
       "  'deeds',\n",
       "  'will',\n",
       "  'rise,'],\n",
       " ['Though',\n",
       "  'all',\n",
       "  'the',\n",
       "  'earth',\n",
       "  \"o'erwhelm\",\n",
       "  'them,',\n",
       "  'to',\n",
       "  \"men's\",\n",
       "  'eyes.'],\n",
       " ['Exit.'],\n",
       " [],\n",
       " [],\n",
       " [],\n",
       " [],\n",
       " ['Scene', 'III.'],\n",
       " ['Elsinore.', 'A', 'room', 'in', 'the', 'house', 'of', 'Polonius.'],\n",
       " [],\n",
       " ['Enter', 'Laertes', 'and', 'Ophelia.'],\n",
       " [],\n",
       " ['Laer.', 'My', 'necessaries', 'are', \"embark'd.\", 'Farewell.'],\n",
       " ['And,', 'sister,', 'as', 'the', 'winds', 'give', 'benefit'],\n",
       " ['And', 'convoy', 'is', 'assistant,', 'do', 'not', 'sleep,'],\n",
       " ['But', 'let', 'me', 'hear', 'from', 'you.'],\n",
       " ['Oph.', 'Do', 'you', 'doubt', 'that?'],\n",
       " ['Laer.', 'For', 'Hamlet,', 'and', 'the', 'trifling', 'of', 'his', 'favour,'],\n",
       " ['Hold', 'it', 'a', 'fashion,', 'and', 'a', 'toy', 'in', 'blood;'],\n",
       " ['A', 'violet', 'in', 'the', 'youth', 'of', 'primy', 'nature,'],\n",
       " ['Forward,', 'not', 'permanent-', 'sweet,', 'not', 'lasting;'],\n",
       " ['The', 'perfume', 'and', 'suppliance', 'of', 'a', 'minute;'],\n",
       " ['No', 'more.'],\n",
       " ['Oph.', 'No', 'more', 'but', 'so?'],\n",
       " ['Laer.', 'Think', 'it', 'no', 'more.'],\n",
       " ['For', 'nature', 'crescent', 'does', 'not', 'grow', 'alone'],\n",
       " ['In', 'thews', 'and', 'bulk;', 'but', 'as', 'this', 'temple', 'waxes,'],\n",
       " ['The', 'inward', 'service', 'of', 'the', 'mind', 'and', 'soul'],\n",
       " ['Grows', 'wide', 'withal.', 'Perhaps', 'he', 'loves', 'you', 'now,'],\n",
       " ['And', 'now', 'no', 'soil', 'nor', 'cautel', 'doth', 'besmirch'],\n",
       " ['The', 'virtue', 'of', 'his', 'will;', 'but', 'you', 'must', 'fear,'],\n",
       " ['His', 'greatness', \"weigh'd,\", 'his', 'will', 'is', 'not', 'his', 'own;'],\n",
       " ['For', 'he', 'himself', 'is', 'subject', 'to', 'his', 'birth.'],\n",
       " ['He', 'may', 'not,', 'as', 'unvalued', 'persons', 'do,'],\n",
       " ['Carve', 'for', 'himself,', 'for', 'on', 'his', 'choice', 'depends'],\n",
       " ['The', 'safety', 'and', 'health', 'of', 'this', 'whole', 'state,'],\n",
       " ['And', 'therefore', 'must', 'his', 'choice', 'be', \"circumscrib'd\"],\n",
       " ['Unto', 'the', 'voice', 'and', 'yielding', 'of', 'that', 'body'],\n",
       " ['Whereof',\n",
       "  'he',\n",
       "  'is',\n",
       "  'the',\n",
       "  'head.',\n",
       "  'Then',\n",
       "  'if',\n",
       "  'he',\n",
       "  'says',\n",
       "  'he',\n",
       "  'loves',\n",
       "  'you,'],\n",
       " ['It', 'fits', 'your', 'wisdom', 'so', 'far', 'to', 'believe', 'it'],\n",
       " ['As', 'he', 'in', 'his', 'particular', 'act', 'and', 'place'],\n",
       " ['May', 'give', 'his', 'saying', 'deed;', 'which', 'is', 'no', 'further'],\n",
       " ['Than', 'the', 'main', 'voice', 'of', 'Denmark', 'goes', 'withal.'],\n",
       " ['Then', 'weigh', 'what', 'loss', 'your', 'honour', 'may', 'sustain'],\n",
       " ['If', 'with', 'too', 'credent', 'ear', 'you', 'list', 'his', 'songs,'],\n",
       " ['Or', 'lose', 'your', 'heart,', 'or', 'your', 'chaste', 'treasure', 'open'],\n",
       " ['To', 'his', \"unmast'red\", 'importunity.'],\n",
       " ['Fear', 'it,', 'Ophelia,', 'fear', 'it,', 'my', 'dear', 'sister,'],\n",
       " ['And', 'keep', 'you', 'in', 'the', 'rear', 'of', 'your', 'affection,'],\n",
       " ['Out', 'of', 'the', 'shot', 'and', 'danger', 'of', 'desire.'],\n",
       " ['The', 'chariest', 'maid', 'is', 'prodigal', 'enough'],\n",
       " ['If', 'she', 'unmask', 'her', 'beauty', 'to', 'the', 'moon.'],\n",
       " ['Virtue', 'itself', 'scopes', 'not', 'calumnious', 'strokes.'],\n",
       " ['The', 'canker', 'galls', 'the', 'infants', 'of', 'the', 'spring'],\n",
       " ['Too', 'oft', 'before', 'their', 'buttons', 'be', \"disclos'd,\"],\n",
       " ['And', 'in', 'the', 'morn', 'and', 'liquid', 'dew', 'of', 'youth'],\n",
       " ['Contagious', 'blastments', 'are', 'most', 'imminent.'],\n",
       " ['Be', 'wary', 'then;', 'best', 'safety', 'lies', 'in', 'fear.'],\n",
       " ['Youth', 'to', 'itself', 'rebels,', 'though', 'none', 'else', 'near.'],\n",
       " ['Oph.',\n",
       "  'I',\n",
       "  'shall',\n",
       "  \"th'\",\n",
       "  'effect',\n",
       "  'of',\n",
       "  'this',\n",
       "  'good',\n",
       "  'lesson',\n",
       "  'keep'],\n",
       " ['As', 'watchman', 'to', 'my', 'heart.', 'But,', 'good', 'my', 'brother,'],\n",
       " ['Do', 'not', 'as', 'some', 'ungracious', 'pastors', 'do,'],\n",
       " ['Show', 'me', 'the', 'steep', 'and', 'thorny', 'way', 'to', 'heaven,'],\n",
       " ['Whiles,', 'like', 'a', \"puff'd\", 'and', 'reckless', 'libertine,'],\n",
       " ['Himself', 'the', 'primrose', 'path', 'of', 'dalliance', 'treads'],\n",
       " ['And', 'recks', 'not', 'his', 'own', 'rede.'],\n",
       " ['Laer.', 'O,', 'fear', 'me', 'not!'],\n",
       " [],\n",
       " ['Enter', 'Polonius.'],\n",
       " [],\n",
       " ['I', 'stay', 'too', 'long.', 'But', 'here', 'my', 'father', 'comes.'],\n",
       " ['A', 'double', 'blessing', 'is', 'a', 'double', 'grace;'],\n",
       " ['Occasion', 'smiles', 'upon', 'a', 'second', 'leave.'],\n",
       " ['Pol.', 'Yet', 'here,', 'Laertes?', 'Aboard,', 'aboard,', 'for', 'shame!'],\n",
       " ['The', 'wind', 'sits', 'in', 'the', 'shoulder', 'of', 'your', 'sail,'],\n",
       " ['And',\n",
       "  'you',\n",
       "  'are',\n",
       "  \"stay'd\",\n",
       "  'for.',\n",
       "  'There-',\n",
       "  'my',\n",
       "  'blessing',\n",
       "  'with',\n",
       "  'thee!'],\n",
       " ['And', 'these', 'few', 'precepts', 'in', 'thy', 'memory'],\n",
       " ['Look', 'thou', 'character.', 'Give', 'thy', 'thoughts', 'no', 'tongue,'],\n",
       " ['Nor', 'any', \"unproportion'd\", 'thought', 'his', 'act.'],\n",
       " ['Be', 'thou', 'familiar,', 'but', 'by', 'no', 'means', 'vulgar:'],\n",
       " ['Those', 'friends', 'thou', 'hast,', 'and', 'their', 'adoption', 'tried,'],\n",
       " ['Grapple', 'them', 'unto', 'thy', 'soul', 'with', 'hoops', 'of', 'steel;'],\n",
       " ['But', 'do', 'not', 'dull', 'thy', 'palm', 'with', 'entertainment'],\n",
       " ['Of', 'each', \"new-hatch'd,\", \"unfledg'd\", 'comrade.', 'Beware'],\n",
       " ['Of', 'entrance', 'to', 'a', 'quarrel;', 'but', 'being', 'in,'],\n",
       " [\"Bear't\", 'that', \"th'\", 'opposed', 'may', 'beware', 'of', 'thee.'],\n",
       " ['Give', 'every', 'man', 'thine', 'ear,', 'but', 'few', 'thy', 'voice;'],\n",
       " ['Take', 'each', \"man's\", 'censure,', 'but', 'reserve', 'thy', 'judgment.'],\n",
       " ['Costly', 'thy', 'habit', 'as', 'thy', 'purse', 'can', 'buy,'],\n",
       " ['But', 'not', \"express'd\", 'in', 'fancy;', 'rich,', 'not', 'gaudy;'],\n",
       " ['For', 'the', 'apparel', 'oft', 'proclaims', 'the', 'man,'],\n",
       " ['And',\n",
       "  'they',\n",
       "  'in',\n",
       "  'France',\n",
       "  'of',\n",
       "  'the',\n",
       "  'best',\n",
       "  'rank',\n",
       "  'and',\n",
       "  'station'],\n",
       " ['Are', 'most', 'select', 'and', 'generous,', 'chief', 'in', 'that.'],\n",
       " ['Neither', 'a', 'borrower', 'nor', 'a', 'lender', 'be;'],\n",
       " ['For', 'loan', 'oft', 'loses', 'both', 'itself', 'and', 'friend,'],\n",
       " ['And', 'borrowing', 'dulls', 'the', 'edge', 'of', 'husbandry.'],\n",
       " ['This', 'above', 'all-', 'to', 'thine', 'own', 'self', 'be', 'true,'],\n",
       " ['And', 'it', 'must', 'follow,', 'as', 'the', 'night', 'the', 'day,'],\n",
       " ['Thou', 'canst', 'not', 'then', 'be', 'false', 'to', 'any', 'man.'],\n",
       " ['Farewell.', 'My', 'blessing', 'season', 'this', 'in', 'thee!'],\n",
       " ['Laer.', 'Most', 'humbly', 'do', 'I', 'take', 'my', 'leave,', 'my', 'lord.'],\n",
       " ['Pol.',\n",
       "  'The',\n",
       "  'time',\n",
       "  'invites',\n",
       "  'you.',\n",
       "  'Go,',\n",
       "  'your',\n",
       "  'servants',\n",
       "  'tend.'],\n",
       " ['Laer.', 'Farewell,', 'Ophelia,', 'and', 'remember', 'well'],\n",
       " ['What', 'I', 'have', 'said', 'to', 'you.'],\n",
       " ['Oph.', \"'Tis\", 'in', 'my', 'memory', \"lock'd,\"],\n",
       " ['And', 'you', 'yourself', 'shall', 'keep', 'the', 'key', 'of', 'it.'],\n",
       " ['Laer.', 'Farewell.', 'Exit.'],\n",
       " ['Pol.', 'What', \"is't,\", 'Ophelia,', 'he', 'hath', 'said', 'to', 'you?'],\n",
       " ['Oph.',\n",
       "  'So',\n",
       "  'please',\n",
       "  'you,',\n",
       "  'something',\n",
       "  'touching',\n",
       "  'the',\n",
       "  'Lord',\n",
       "  'Hamlet.'],\n",
       " ['Pol.', 'Marry,', 'well', 'bethought!'],\n",
       " [\"'Tis\", 'told', 'me', 'he', 'hath', 'very', 'oft', 'of', 'late'],\n",
       " ['Given', 'private', 'time', 'to', 'you,', 'and', 'you', 'yourself'],\n",
       " ['Have',\n",
       "  'of',\n",
       "  'your',\n",
       "  'audience',\n",
       "  'been',\n",
       "  'most',\n",
       "  'free',\n",
       "  'and',\n",
       "  'bounteous.'],\n",
       " ['If', 'it', 'be', 'so-', 'as', 'so', \"'tis\", 'put', 'on', 'me,'],\n",
       " ['And', 'that', 'in', 'way', 'of', 'caution-', 'I', 'must', 'tell', 'you'],\n",
       " ['You', 'do', 'not', 'understand', 'yourself', 'so', 'clearly'],\n",
       " ['As', 'it', 'behooves', 'my', 'daughter', 'and', 'your', 'honour.'],\n",
       " ['What', 'is', 'between', 'you?', 'Give', 'me', 'up', 'the', 'truth.'],\n",
       " ['Oph.',\n",
       "  'He',\n",
       "  'hath,',\n",
       "  'my',\n",
       "  'lord,',\n",
       "  'of',\n",
       "  'late',\n",
       "  'made',\n",
       "  'many',\n",
       "  'tenders'],\n",
       " ['Of', 'his', 'affection', 'to', 'me.'],\n",
       " ['Pol.',\n",
       "  'Affection?',\n",
       "  'Pooh!',\n",
       "  'You',\n",
       "  'speak',\n",
       "  'like',\n",
       "  'a',\n",
       "  'green',\n",
       "  'girl,'],\n",
       " ['Unsifted', 'in', 'such', 'perilous', 'circumstance.'],\n",
       " ['Do', 'you', 'believe', 'his', 'tenders,', 'as', 'you', 'call', 'them?'],\n",
       " ['Oph.',\n",
       "  'I',\n",
       "  'do',\n",
       "  'not',\n",
       "  'know,',\n",
       "  'my',\n",
       "  'lord,',\n",
       "  'what',\n",
       "  'I',\n",
       "  'should',\n",
       "  'think,'],\n",
       " ['Pol.',\n",
       "  'Marry,',\n",
       "  'I',\n",
       "  'will',\n",
       "  'teach',\n",
       "  'you!',\n",
       "  'Think',\n",
       "  'yourself',\n",
       "  'a',\n",
       "  'baby'],\n",
       " ['That', 'you', 'have', \"ta'en\", 'these', 'tenders', 'for', 'true', 'pay,'],\n",
       " ['Which', 'are', 'not', 'sterling.', 'Tender', 'yourself', 'more', 'dearly,'],\n",
       " ['Or', '(not', 'to', 'crack', 'the', 'wind', 'of', 'the', 'poor', 'phrase,'],\n",
       " ['Running', 'it', 'thus)', \"you'll\", 'tender', 'me', 'a', 'fool.'],\n",
       " ['Oph.', 'My', 'lord,', 'he', 'hath', \"importun'd\", 'me', 'with', 'love'],\n",
       " ['In', 'honourable', 'fashion.'],\n",
       " ['Pol.',\n",
       "  'Ay,',\n",
       "  'fashion',\n",
       "  'you',\n",
       "  'may',\n",
       "  'call',\n",
       "  'it.',\n",
       "  'Go',\n",
       "  'to,',\n",
       "  'go',\n",
       "  'to!'],\n",
       " ['Oph.',\n",
       "  'And',\n",
       "  'hath',\n",
       "  'given',\n",
       "  'countenance',\n",
       "  'to',\n",
       "  'his',\n",
       "  'speech,',\n",
       "  'my',\n",
       "  'lord,'],\n",
       " ['With', 'almost', 'all', 'the', 'holy', 'vows', 'of', 'heaven.'],\n",
       " ['Pol.', 'Ay,', 'springes', 'to', 'catch', 'woodcocks!', 'I', 'do', 'know,'],\n",
       " ['When', 'the', 'blood', 'burns,', 'how', 'prodigal', 'the', 'soul'],\n",
       " ['Lends', 'the', 'tongue', 'vows.', 'These', 'blazes,', 'daughter,'],\n",
       " ['Giving', 'more', 'light', 'than', 'heat,', 'extinct', 'in', 'both'],\n",
       " ['Even', 'in', 'their', 'promise,', 'as', 'it', 'is', 'a-making,'],\n",
       " ['You', 'must', 'not', 'take', 'for', 'fire.', 'From', 'this', 'time'],\n",
       " ['Be', 'something', 'scanter', 'of', 'your', 'maiden', 'presence.'],\n",
       " ['Set', 'your', 'entreatments', 'at', 'a', 'higher', 'rate'],\n",
       " ['Than', 'a', 'command', 'to', 'parley.', 'For', 'Lord', 'Hamlet,'],\n",
       " ['Believe', 'so', 'much', 'in', 'him,', 'that', 'he', 'is', 'young,'],\n",
       " ['And', 'with', 'a', 'larger', 'tether', 'may', 'he', 'walk'],\n",
       " ['Than', 'may', 'be', 'given', 'you.', 'In', 'few,', 'Ophelia,'],\n",
       " ['Do', 'not', 'believe', 'his', 'vows;', 'for', 'they', 'are', 'brokers,'],\n",
       " ['Not', 'of', 'that', 'dye', 'which', 'their', 'investments', 'show,'],\n",
       " ['But', 'mere', 'implorators', 'of', 'unholy', 'suits,'],\n",
       " ['Breathing', 'like', 'sanctified', 'and', 'pious', 'bawds,'],\n",
       " ['The', 'better', 'to', 'beguile.', 'This', 'is', 'for', 'all:'],\n",
       " ['I',\n",
       "  'would',\n",
       "  'not,',\n",
       "  'in',\n",
       "  'plain',\n",
       "  'terms,',\n",
       "  'from',\n",
       "  'this',\n",
       "  'time',\n",
       "  'forth'],\n",
       " ['Have', 'you', 'so', 'slander', 'any', 'moment', 'leisure'],\n",
       " ['As', 'to', 'give', 'words', 'or', 'talk', 'with', 'the', 'Lord', 'Hamlet.'],\n",
       " ['Look', \"to't,\", 'I', 'charge', 'you.', 'Come', 'your', 'ways.'],\n",
       " ['Oph.', 'I', 'shall', 'obey,', 'my', 'lord.'],\n",
       " ['Exeunt.'],\n",
       " [],\n",
       " [],\n",
       " [],\n",
       " [],\n",
       " ['Scene', 'IV.'],\n",
       " ['Elsinore.', 'The', 'platform', 'before', 'the', 'Castle.'],\n",
       " [],\n",
       " ['Enter', 'Hamlet,', 'Horatio,', 'and', 'Marcellus.'],\n",
       " [],\n",
       " ['Ham.', 'The', 'air', 'bites', 'shrewdly;', 'it', 'is', 'very', 'cold.'],\n",
       " ['Hor.', 'It', 'is', 'a', 'nipping', 'and', 'an', 'eager', 'air.'],\n",
       " ['Ham.', 'What', 'hour', 'now?'],\n",
       " ['Hor.', 'I', 'think', 'it', 'lacks', 'of', 'twelve.'],\n",
       " ['Mar.', 'No,', 'it', 'is', 'struck.'],\n",
       " ['Hor.',\n",
       "  'Indeed?',\n",
       "  'I',\n",
       "  'heard',\n",
       "  'it',\n",
       "  'not.',\n",
       "  'It',\n",
       "  'then',\n",
       "  'draws',\n",
       "  'near',\n",
       "  'the',\n",
       "  'season'],\n",
       " ['Wherein', 'the', 'spirit', 'held', 'his', 'wont', 'to', 'walk.'],\n",
       " ['A', 'flourish', 'of', 'trumpets,', 'and', 'two', 'pieces', 'go', 'off.'],\n",
       " ['What', 'does', 'this', 'mean,', 'my', 'lord?'],\n",
       " ['Ham.',\n",
       "  'The',\n",
       "  'King',\n",
       "  'doth',\n",
       "  'wake',\n",
       "  'to-night',\n",
       "  'and',\n",
       "  'takes',\n",
       "  'his',\n",
       "  'rouse,'],\n",
       " ['Keeps', 'wassail,', 'and', 'the', \"swagg'ring\", 'upspring', 'reels,'],\n",
       " ['And,', 'as', 'he', 'drains', 'his', 'draughts', 'of', 'Rhenish', 'down,'],\n",
       " ['The', 'kettledrum', 'and', 'trumpet', 'thus', 'bray', 'out'],\n",
       " ['The', 'triumph', 'of', 'his', 'pledge.'],\n",
       " ['Hor.', 'Is', 'it', 'a', 'custom?'],\n",
       " ['Ham.', 'Ay,', 'marry,', \"is't;\"],\n",
       " ['But', 'to', 'my', 'mind,', 'though', 'I', 'am', 'native', 'here'],\n",
       " ['And', 'to', 'the', 'manner', 'born,', 'it', 'is', 'a', 'custom'],\n",
       " ['More', \"honour'd\", 'in', 'the', 'breach', 'than', 'the', 'observance.'],\n",
       " ['This', 'heavy-headed', 'revel', 'east', 'and', 'west'],\n",
       " ['Makes', 'us', \"traduc'd\", 'and', \"tax'd\", 'of', 'other', 'nations;'],\n",
       " ['They', 'clip', 'us', 'drunkards', 'and', 'with', 'swinish', 'phrase'],\n",
       " ['Soil', 'our', 'addition;', 'and', 'indeed', 'it', 'takes'],\n",
       " ['From', 'our', 'achievements,', 'though', \"perform'd\", 'at', 'height,'],\n",
       " ['The', 'pith', 'and', 'marrow', 'of', 'our', 'attribute.'],\n",
       " ['So', 'oft', 'it', 'chances', 'in', 'particular', 'men'],\n",
       " ['That,', 'for', 'some', 'vicious', 'mole', 'of', 'nature', 'in', 'them,'],\n",
       " ['As', 'in', 'their', 'birth,-', 'wherein', 'they', 'are', 'not', 'guilty,'],\n",
       " ['Since', 'nature', 'cannot', 'choose', 'his', 'origin,-'],\n",
       " ['By', 'the', \"o'ergrowth\", 'of', 'some', 'complexion,'],\n",
       " ['Oft', 'breaking', 'down', 'the', 'pales', 'and', 'forts', 'of', 'reason,'],\n",
       " ['Or', 'by', 'some', 'habit', 'that', 'too', 'much', \"o'erleavens\"],\n",
       " ['The', 'form', 'of', 'plausive', 'manners,', 'that', 'these', 'men'],\n",
       " ['Carrying,', 'I', 'say,', 'the', 'stamp', 'of', 'one', 'defect,'],\n",
       " ['Being', \"nature's\", 'livery,', 'or', \"fortune's\", 'star,'],\n",
       " ['Their', 'virtues', 'else-', 'be', 'they', 'as', 'pure', 'as', 'grace,'],\n",
       " ['As', 'infinite', 'as', 'man', 'may', 'undergo-'],\n",
       " ['Shall', 'in', 'the', 'general', 'censure', 'take', 'corruption'],\n",
       " ['From', 'that', 'particular', 'fault.', 'The', 'dram', 'of', \"e'il\"],\n",
       " ['Doth',\n",
       "  'all',\n",
       "  'the',\n",
       "  'noble',\n",
       "  'substance',\n",
       "  'often',\n",
       "  'dout',\n",
       "  'To',\n",
       "  'his',\n",
       "  'own',\n",
       "  'scandal.'],\n",
       " [],\n",
       " ['Enter', 'Ghost.'],\n",
       " [],\n",
       " ['Hor.', 'Look,', 'my', 'lord,', 'it', 'comes!'],\n",
       " ['Ham.', 'Angels', 'and', 'ministers', 'of', 'grace', 'defend', 'us!'],\n",
       " ['Be', 'thou', 'a', 'spirit', 'of', 'health', 'or', 'goblin', \"damn'd,\"],\n",
       " ['Bring',\n",
       "  'with',\n",
       "  'thee',\n",
       "  'airs',\n",
       "  'from',\n",
       "  'heaven',\n",
       "  'or',\n",
       "  'blasts',\n",
       "  'from',\n",
       "  'hell,'],\n",
       " ['Be', 'thy', 'intents', 'wicked', 'or', 'charitable,'],\n",
       " ['Thou', \"com'st\", 'in', 'such', 'a', 'questionable', 'shape'],\n",
       " ['That',\n",
       "  'I',\n",
       "  'will',\n",
       "  'speak',\n",
       "  'to',\n",
       "  'thee.',\n",
       "  \"I'll\",\n",
       "  'call',\n",
       "  'thee',\n",
       "  'Hamlet,'],\n",
       " ['King,', 'father,', 'royal', 'Dane.', 'O,', 'answer', 'me?'],\n",
       " ['Let', 'me', 'not', 'burst', 'in', 'ignorance,', 'but', 'tell'],\n",
       " ['Why', 'thy', \"canoniz'd\", 'bones,', 'hearsed', 'in', 'death,'],\n",
       " ['Have', 'burst', 'their', 'cerements;', 'why', 'the', 'sepulchre'],\n",
       " ['Wherein', 'we', 'saw', 'thee', 'quietly', \"inurn'd,\"],\n",
       " ['Hath', \"op'd\", 'his', 'ponderous', 'and', 'marble', 'jaws'],\n",
       " ['To', 'cast', 'thee', 'up', 'again.', 'What', 'may', 'this', 'mean'],\n",
       " ['That', 'thou,', 'dead', 'corse,', 'again', 'in', 'complete', 'steel,'],\n",
       " ['Revisits', 'thus', 'the', 'glimpses', 'of', 'the', 'moon,'],\n",
       " ['Making', 'night', 'hideous,', 'and', 'we', 'fools', 'of', 'nature'],\n",
       " ['So', 'horridly', 'to', 'shake', 'our', 'disposition'],\n",
       " ['With', 'thoughts', 'beyond', 'the', 'reaches', 'of', 'our', 'souls?'],\n",
       " ['Say,', 'why', 'is', 'this?', 'wherefore?', 'What', 'should', 'we', 'do?'],\n",
       " ['Ghost', 'beckons', 'Hamlet.'],\n",
       " ['Hor.', 'It', 'beckons', 'you', 'to', 'go', 'away', 'with', 'it,'],\n",
       " ['As', 'if', 'it', 'some', 'impartment', 'did', 'desire'],\n",
       " ['To', 'you', 'alone.'],\n",
       " ['Mar.', 'Look', 'with', 'what', 'courteous', 'action'],\n",
       " ['It', 'waves', 'you', 'to', 'a', 'more', 'removed', 'ground.'],\n",
       " ['But', 'do', 'not', 'go', 'with', 'it!'],\n",
       " ['Hor.', 'No,', 'by', 'no', 'means!'],\n",
       " ['Ham.', 'It', 'will', 'not', 'speak.', 'Then', 'will', 'I', 'follow', 'it.'],\n",
       " ['Hor.', 'Do', 'not,', 'my', 'lord!'],\n",
       " ['Ham.', 'Why,', 'what', 'should', 'be', 'the', 'fear?'],\n",
       " ['I', 'do', 'not', 'set', 'my', 'life', 'at', 'a', \"pin's\", 'fee;'],\n",
       " ['And', 'for', 'my', 'soul,', 'what', 'can', 'it', 'do', 'to', 'that,'],\n",
       " ['Being', 'a', 'thing', 'immortal', 'as', 'itself?'],\n",
       " ['It', 'waves', 'me', 'forth', 'again.', \"I'll\", 'follow', 'it.'],\n",
       " ['Hor.',\n",
       "  'What',\n",
       "  'if',\n",
       "  'it',\n",
       "  'tempt',\n",
       "  'you',\n",
       "  'toward',\n",
       "  'the',\n",
       "  'flood,',\n",
       "  'my',\n",
       "  'lord,'],\n",
       " ['Or', 'to', 'the', 'dreadful', 'summit', 'of', 'the', 'cliff'],\n",
       " ['That', 'beetles', \"o'er\", 'his', 'base', 'into', 'the', 'sea,'],\n",
       " ['And', 'there', 'assume', 'some', 'other,', 'horrible', 'form'],\n",
       " ['Which', 'might', 'deprive', 'your', 'sovereignty', 'of', 'reason'],\n",
       " ['And', 'draw', 'you', 'into', 'madness?', 'Think', 'of', 'it.'],\n",
       " ['The', 'very', 'place', 'puts', 'toys', 'of', 'desperation,'],\n",
       " ['Without', 'more', 'motive,', 'into', 'every', 'brain'],\n",
       " ['That', 'looks', 'so', 'many', 'fadoms', 'to', 'the', 'sea'],\n",
       " ['And', 'hears', 'it', 'roar', 'beneath.'],\n",
       " ['Ham.', 'It', 'waves', 'me', 'still.'],\n",
       " ['Go', 'on.', \"I'll\", 'follow', 'thee.'],\n",
       " ['Mar.', 'You', 'shall', 'not', 'go,', 'my', 'lord.'],\n",
       " ['Ham.', 'Hold', 'off', 'your', 'hands!'],\n",
       " ['Hor.', 'Be', \"rul'd.\", 'You', 'shall', 'not', 'go.'],\n",
       " ['Ham.', 'My', 'fate', 'cries', 'out'],\n",
       " ['And', 'makes', 'each', 'petty', 'artire', 'in', 'this', 'body'],\n",
       " ['As', 'hardy', 'as', 'the', 'Nemean', \"lion's\", 'nerve.'],\n",
       " ['[Ghost', 'beckons.]'],\n",
       " ['Still', 'am', 'I', \"call'd.\", 'Unhand', 'me,', 'gentlemen.'],\n",
       " ['By',\n",
       "  'heaven,',\n",
       "  \"I'll\",\n",
       "  'make',\n",
       "  'a',\n",
       "  'ghost',\n",
       "  'of',\n",
       "  'him',\n",
       "  'that',\n",
       "  'lets',\n",
       "  'me!-'],\n",
       " ['I', 'say,', 'away!-', 'Go', 'on.', \"I'll\", 'follow', 'thee.'],\n",
       " ['Exeunt', 'Ghost', 'and', 'Hamlet.'],\n",
       " ['Hor.', 'He', 'waxes', 'desperate', 'with', 'imagination.'],\n",
       " ['Mar.',\n",
       "  \"Let's\",\n",
       "  'follow.',\n",
       "  \"'Tis\",\n",
       "  'not',\n",
       "  'fit',\n",
       "  'thus',\n",
       "  'to',\n",
       "  'obey',\n",
       "  'him.'],\n",
       " ['Hor.', 'Have', 'after.', 'To', 'what', 'issue', 'wail', 'this', 'come?'],\n",
       " ['Mar.', 'Something', 'is', 'rotten', 'in', 'the', 'state', 'of', 'Denmark.'],\n",
       " ['Hor.', 'Heaven', 'will', 'direct', 'it.'],\n",
       " ['Mar.', 'Nay,', \"let's\", 'follow', 'him.'],\n",
       " ['Exeunt.'],\n",
       " [],\n",
       " [],\n",
       " [],\n",
       " [],\n",
       " ['Scene', 'V.'],\n",
       " ['Elsinore.',\n",
       "  'The',\n",
       "  'Castle.',\n",
       "  'Another',\n",
       "  'part',\n",
       "  'of',\n",
       "  'the',\n",
       "  'fortifications.'],\n",
       " [],\n",
       " ['Enter', 'Ghost', 'and', 'Hamlet.'],\n",
       " [],\n",
       " ['Ham.',\n",
       "  'Whither',\n",
       "  'wilt',\n",
       "  'thou',\n",
       "  'lead',\n",
       "  'me?',\n",
       "  'Speak!',\n",
       "  \"I'll\",\n",
       "  'go',\n",
       "  'no',\n",
       "  'further.'],\n",
       " ['Ghost.', 'Mark', 'me.'],\n",
       " ['Ham.', 'I', 'will.'],\n",
       " ['Ghost.', 'My', 'hour', 'is', 'almost', 'come,'],\n",
       " ['When', 'I', 'to', \"sulph'rous\", 'and', 'tormenting', 'flames'],\n",
       " ['Must', 'render', 'up', 'myself.'],\n",
       " ['Ham.', 'Alas,', 'poor', 'ghost!'],\n",
       " ['Ghost.', 'Pity', 'me', 'not,', 'but', 'lend', 'thy', 'serious', 'hearing'],\n",
       " ['To', 'what', 'I', 'shall', 'unfold.'],\n",
       " ['Ham.', 'Speak.', 'I', 'am', 'bound', 'to', 'hear.'],\n",
       " ['Ghost.',\n",
       "  'So',\n",
       "  'art',\n",
       "  'thou',\n",
       "  'to',\n",
       "  'revenge,',\n",
       "  'when',\n",
       "  'thou',\n",
       "  'shalt',\n",
       "  'hear.'],\n",
       " ['Ham.', 'What?'],\n",
       " ['Ghost.', 'I', 'am', 'thy', \"father's\", 'spirit,'],\n",
       " [\"Doom'd\", 'for', 'a', 'certain', 'term', 'to', 'walk', 'the', 'night,'],\n",
       " ['And', 'for', 'the', 'day', \"confin'd\", 'to', 'fast', 'in', 'fires,'],\n",
       " ['Till', 'the', 'foul', 'crimes', 'done', 'in', 'my', 'days', 'of', 'nature'],\n",
       " ['Are',\n",
       "  'burnt',\n",
       "  'and',\n",
       "  \"purg'd\",\n",
       "  'away.',\n",
       "  'But',\n",
       "  'that',\n",
       "  'I',\n",
       "  'am',\n",
       "  'forbid'],\n",
       " ['To', 'tell', 'the', 'secrets', 'of', 'my', 'prison', 'house,'],\n",
       " ['I', 'could', 'a', 'tale', 'unfold', 'whose', 'lightest', 'word'],\n",
       " ['Would', 'harrow', 'up', 'thy', 'soul,', 'freeze', 'thy', 'young', 'blood,'],\n",
       " ['Make',\n",
       "  'thy',\n",
       "  'two',\n",
       "  'eyes,',\n",
       "  'like',\n",
       "  'stars,',\n",
       "  'start',\n",
       "  'from',\n",
       "  'their',\n",
       "  'spheres,'],\n",
       " ['Thy', 'knotted', 'and', 'combined', 'locks', 'to', 'part,'],\n",
       " ['And', 'each', 'particular', 'hair', 'to', 'stand', 'an', 'end'],\n",
       " ['Like', 'quills', 'upon', 'the', 'fretful', 'porpentine.'],\n",
       " ['But', 'this', 'eternal', 'blazon', 'must', 'not', 'be'],\n",
       " ['To',\n",
       "  'ears',\n",
       "  'of',\n",
       "  'flesh',\n",
       "  'and',\n",
       "  'blood.',\n",
       "  'List,',\n",
       "  'list,',\n",
       "  'O,',\n",
       "  'list!'],\n",
       " ['If', 'thou', 'didst', 'ever', 'thy', 'dear', 'father', 'love-'],\n",
       " ['Ham.', 'O', 'God!'],\n",
       " ['Ghost.', 'Revenge', 'his', 'foul', 'and', 'most', 'unnatural', 'murther.'],\n",
       " ['Ham.', 'Murther?'],\n",
       " ['Ghost.',\n",
       "  'Murther',\n",
       "  'most',\n",
       "  'foul,',\n",
       "  'as',\n",
       "  'in',\n",
       "  'the',\n",
       "  'best',\n",
       "  'it',\n",
       "  'is;'],\n",
       " ['But', 'this', 'most', 'foul,', 'strange,', 'and', 'unnatural.'],\n",
       " ['Ham.',\n",
       "  'Haste',\n",
       "  'me',\n",
       "  'to',\n",
       "  \"know't,\",\n",
       "  'that',\n",
       "  'I,',\n",
       "  'with',\n",
       "  'wings',\n",
       "  'as',\n",
       "  'swift'],\n",
       " ['As', 'meditation', 'or', 'the', 'thoughts', 'of', 'love,'],\n",
       " ['May', 'sweep', 'to', 'my', 'revenge.'],\n",
       " ['Ghost.', 'I', 'find', 'thee', 'apt;'],\n",
       " ['And', 'duller', 'shouldst', 'thou', 'be', 'than', 'the', 'fat', 'weed'],\n",
       " ['That', 'rots', 'itself', 'in', 'ease', 'on', 'Lethe', 'wharf,'],\n",
       " ['Wouldst', 'thou', 'not', 'stir', 'in', 'this.', 'Now,', 'Hamlet,', 'hear.'],\n",
       " [\"'Tis\", 'given', 'out', 'that,', 'sleeping', 'in', 'my', 'orchard,'],\n",
       " ['A',\n",
       "  'serpent',\n",
       "  'stung',\n",
       "  'me.',\n",
       "  'So',\n",
       "  'the',\n",
       "  'whole',\n",
       "  'ear',\n",
       "  'of',\n",
       "  'Denmark'],\n",
       " ['Is', 'by', 'a', 'forged', 'process', 'of', 'my', 'death'],\n",
       " ['Rankly', \"abus'd.\", 'But', 'know,', 'thou', 'noble', 'youth,'],\n",
       " ['The', 'serpent', 'that', 'did', 'sting', 'thy', \"father's\", 'life'],\n",
       " ['Now', 'wears', 'his', 'crown.'],\n",
       " ['Ham.', 'O', 'my', 'prophetic', 'soul!'],\n",
       " ['My', 'uncle?'],\n",
       " ['Ghost.', 'Ay,', 'that', 'incestuous,', 'that', 'adulterate', 'beast,'],\n",
       " ['With', 'witchcraft', 'of', 'his', 'wit,', 'with', 'traitorous', 'gifts-'],\n",
       " ['O', 'wicked', 'wit', 'and', 'gifts,', 'that', 'have', 'the', 'power'],\n",
       " ['So', 'to', 'seduce!-', 'won', 'to', 'his', 'shameful', 'lust'],\n",
       " ['The', 'will', 'of', 'my', 'most', 'seeming-virtuous', 'queen.'],\n",
       " ['O', 'Hamlet,', 'what', 'a', 'falling-off', 'was', 'there,'],\n",
       " ['From', 'me,', 'whose', 'love', 'was', 'of', 'that', 'dignity'],\n",
       " ['That', 'it', 'went', 'hand', 'in', 'hand', 'even', 'with', 'the', 'vow'],\n",
       " ['I', 'made', 'to', 'her', 'in', 'marriage,', 'and', 'to', 'decline'],\n",
       " ['Upon', 'a', 'wretch', 'whose', 'natural', 'gifts', 'were', 'poor'],\n",
       " ['To', 'those', 'of', 'mine!'],\n",
       " ['But', 'virtue,', 'as', 'it', 'never', 'will', 'be', \"mov'd,\"],\n",
       " ['Though', 'lewdness', 'court', 'it', 'in', 'a', 'shape', 'of', 'heaven,'],\n",
       " ['So', 'lust,', 'though', 'to', 'a', 'radiant', 'angel', \"link'd,\"],\n",
       " ['Will', 'sate', 'itself', 'in', 'a', 'celestial', 'bed'],\n",
       " ['And', 'prey', 'on', 'garbage.'],\n",
       " ['But', 'soft!', 'methinks', 'I', 'scent', 'the', 'morning', 'air.'],\n",
       " ['Brief', 'let', 'me', 'be.', 'Sleeping', 'within', 'my', 'orchard,'],\n",
       " ['My', 'custom', 'always', 'of', 'the', 'afternoon,'],\n",
       " ['Upon', 'my', 'secure', 'hour', 'thy', 'uncle', 'stole,'],\n",
       " ['With', 'juice', 'of', 'cursed', 'hebona', 'in', 'a', 'vial,'],\n",
       " ['And', 'in', 'the', 'porches', 'of', 'my', 'ears', 'did', 'pour'],\n",
       " ['The', 'leperous', 'distilment;', 'whose', 'effect'],\n",
       " ['Holds', 'such', 'an', 'enmity', 'with', 'blood', 'of', 'man'],\n",
       " ['That', 'swift', 'as', 'quicksilverr', 'it', 'courses', 'through'],\n",
       " ['The', 'natural', 'gates', 'and', 'alleys', 'of', 'the', 'body,'],\n",
       " ['And', 'with', 'a', 'sudden', 'vigour', 'it', 'doth', 'posset'],\n",
       " ['And', 'curd,', 'like', 'eager', 'droppings', 'into', 'milk,'],\n",
       " ['The', 'thin', 'and', 'wholesome', 'blood.', 'So', 'did', 'it', 'mine;'],\n",
       " ['And', 'a', 'most', 'instant', 'tetter', \"bark'd\", 'about,'],\n",
       " ['Most', 'lazar-like,', 'with', 'vile', 'and', 'loathsome', 'crust'],\n",
       " ['All', 'my', 'smooth', 'body.'],\n",
       " ['Thus', 'was', 'I,', 'sleeping,', 'by', 'a', \"brother's\", 'hand'],\n",
       " ['Of', 'life,', 'of', 'crown,', 'of', 'queen,', 'at', 'once', \"dispatch'd;\"],\n",
       " ['Cut', 'off', 'even', 'in', 'the', 'blossoms', 'of', 'my', 'sin,'],\n",
       " [\"Unhous'led,\", 'disappointed,', \"unanel'd,\"],\n",
       " ['No', 'reckoning', 'made,', 'but', 'sent', 'to', 'my', 'account'],\n",
       " ['With', 'all', 'my', 'imperfections', 'on', 'my', 'head.'],\n",
       " ['Ham.', 'O,', 'horrible!', 'O,', 'horrible!', 'most', 'horrible!'],\n",
       " ['Ghost.',\n",
       "  'If',\n",
       "  'thou',\n",
       "  'hast',\n",
       "  'nature',\n",
       "  'in',\n",
       "  'thee,',\n",
       "  'bear',\n",
       "  'it',\n",
       "  'not.'],\n",
       " ['Let', 'not', 'the', 'royal', 'bed', 'of', 'Denmark', 'be'],\n",
       " ['A', 'couch', 'for', 'luxury', 'and', 'damned', 'incest.'],\n",
       " ['But,', 'howsoever', 'thou', 'pursuest', 'this', 'act,'],\n",
       " ['Taint', 'not', 'thy', 'mind,', 'nor', 'let', 'thy', 'soul', 'contrive'],\n",
       " ['Against', 'thy', 'mother', 'aught.', 'Leave', 'her', 'to', 'heaven,'],\n",
       " ['And', 'to', 'those', 'thorns', 'that', 'in', 'her', 'bosom', 'lodge'],\n",
       " ['To',\n",
       "  'prick',\n",
       "  'and',\n",
       "  'sting',\n",
       "  'her.',\n",
       "  'Fare',\n",
       "  'thee',\n",
       "  'well',\n",
       "  'at',\n",
       "  'once.'],\n",
       " ['The', 'glowworm', 'shows', 'the', 'matin', 'to', 'be', 'near'],\n",
       " ['And', 'gins', 'to', 'pale', 'his', 'uneffectual', 'fire.'],\n",
       " ['Adieu,', 'adieu,', 'adieu!', 'Remember', 'me.', 'Exit.'],\n",
       " ['Ham.',\n",
       "  'O',\n",
       "  'all',\n",
       "  'you',\n",
       "  'host',\n",
       "  'of',\n",
       "  'heaven!',\n",
       "  'O',\n",
       "  'earth!',\n",
       "  'What',\n",
       "  'else?'],\n",
       " ['And', 'shall', 'I', 'couple', 'hell?', 'Hold,', 'hold,', 'my', 'heart!'],\n",
       " ['And', 'you,', 'my', 'sinews,', 'grow', 'not', 'instant', 'old,'],\n",
       " ['But', 'bear', 'me', 'stiffly', 'up.', 'Remember', 'thee?'],\n",
       " ['Ay,', 'thou', 'poor', 'ghost,', 'while', 'memory', 'holds', 'a', 'seat'],\n",
       " ['In', 'this', 'distracted', 'globe.', 'Remember', 'thee?'],\n",
       " ['Yea,', 'from', 'the', 'table', 'of', 'my', 'memory'],\n",
       " [\"I'll\", 'wipe', 'away', 'all', 'trivial', 'fond', 'records,'],\n",
       " ['All', 'saws', 'of', 'books,', 'all', 'forms,', 'all', 'pressures', 'past'],\n",
       " ['That', 'youth', 'and', 'observation', 'copied', 'there,'],\n",
       " ['And', 'thy', 'commandment', 'all', 'alone', 'shall', 'live'],\n",
       " ['Within', 'the', 'book', 'and', 'volume', 'of', 'my', 'brain,'],\n",
       " [\"Unmix'd\", 'with', 'baser', 'matter.', 'Yes,', 'by', 'heaven!'],\n",
       " ['O', 'most', 'pernicious', 'woman!'],\n",
       " ['O', 'villain,', 'villain,', 'smiling,', 'damned', 'villain!'],\n",
       " ['My', 'tables!', 'Meet', 'it', 'is', 'I', 'set', 'it', 'down'],\n",
       " ['That',\n",
       "  'one',\n",
       "  'may',\n",
       "  'smile,',\n",
       "  'and',\n",
       "  'smile,',\n",
       "  'and',\n",
       "  'be',\n",
       "  'a',\n",
       "  'villain;'],\n",
       " ['At',\n",
       "  'least',\n",
       "  'I',\n",
       "  'am',\n",
       "  'sure',\n",
       "  'it',\n",
       "  'may',\n",
       "  'be',\n",
       "  'so',\n",
       "  'in',\n",
       "  'Denmark.',\n",
       "  '[Writes.]'],\n",
       " ['So,', 'uncle,', 'there', 'you', 'are.', 'Now', 'to', 'my', 'word:'],\n",
       " ['It', 'is', \"'Adieu,\", 'adieu!', 'Remember', \"me.'\"],\n",
       " ['I', 'have', \"sworn't.\"],\n",
       " ['Hor.', '(within)', 'My', 'lord,', 'my', 'lord!'],\n",
       " [],\n",
       " ['Enter', 'Horatio', 'and', 'Marcellus.'],\n",
       " [],\n",
       " ['Mar.', 'Lord', 'Hamlet!'],\n",
       " ['Hor.', 'Heaven', 'secure', 'him!'],\n",
       " ['Ham.', 'So', 'be', 'it!'],\n",
       " ['Mar.', 'Illo,', 'ho,', 'ho,', 'my', 'lord!'],\n",
       " ['Ham.', 'Hillo,', 'ho,', 'ho,', 'boy!', 'Come,', 'bird,', 'come.'],\n",
       " ['Mar.', 'How', \"is't,\", 'my', 'noble', 'lord?'],\n",
       " ['Hor.', 'What', 'news,', 'my', 'lord?'],\n",
       " ['Mar.', 'O,', 'wonderful!'],\n",
       " ['Hor.', 'Good', 'my', 'lord,', 'tell', 'it.'],\n",
       " ['Ham.', 'No,', 'you', 'will', 'reveal', 'it.'],\n",
       " ['Hor.', 'Not', 'I,', 'my', 'lord,', 'by', 'heaven!'],\n",
       " ['Mar.', 'Nor', 'I,', 'my', 'lord.'],\n",
       " ['Ham.',\n",
       "  'How',\n",
       "  'say',\n",
       "  'you',\n",
       "  'then?',\n",
       "  'Would',\n",
       "  'heart',\n",
       "  'of',\n",
       "  'man',\n",
       "  'once',\n",
       "  'think',\n",
       "  'it?'],\n",
       " ['But', \"you'll\", 'be', 'secret?'],\n",
       " ['Both.', 'Ay,', 'by', 'heaven,', 'my', 'lord.'],\n",
       " ['Ham.',\n",
       "  \"There's\",\n",
       "  'neer',\n",
       "  'a',\n",
       "  'villain',\n",
       "  'dwelling',\n",
       "  'in',\n",
       "  'all',\n",
       "  'Denmark'],\n",
       " ['But', \"he's\", 'an', 'arrant', 'knave.'],\n",
       " ['Hor.',\n",
       "  'There',\n",
       "  'needs',\n",
       "  'no',\n",
       "  'ghost,',\n",
       "  'my',\n",
       "  'lord,',\n",
       "  'come',\n",
       "  'from',\n",
       "  'the',\n",
       "  'grave'],\n",
       " ['To', 'tell', 'us', 'this.'],\n",
       " ['Ham.', 'Why,', 'right!', 'You', 'are', 'in', 'the', 'right!'],\n",
       " ['And', 'so,', 'without', 'more', 'circumstance', 'at', 'all,'],\n",
       " ['I', 'hold', 'it', 'fit', 'that', 'we', 'shake', 'hands', 'and', 'part;'],\n",
       " ['You,',\n",
       "  'as',\n",
       "  'your',\n",
       "  'business',\n",
       "  'and',\n",
       "  'desires',\n",
       "  'shall',\n",
       "  'point',\n",
       "  'you,'],\n",
       " ['For', 'every', 'man', 'hath', 'business', 'and', 'desire,'],\n",
       " ['Such', 'as', 'it', 'is;', 'and', 'for', 'my', 'own', 'poor', 'part,'],\n",
       " ['Look', 'you,', \"I'll\", 'go', 'pray.'],\n",
       " ['Hor.',\n",
       "  'These',\n",
       "  'are',\n",
       "  'but',\n",
       "  'wild',\n",
       "  'and',\n",
       "  'whirling',\n",
       "  'words,',\n",
       "  'my',\n",
       "  'lord.'],\n",
       " ['Ham.', 'I', 'am', 'sorry', 'they', 'offend', 'you,', 'heartily;'],\n",
       " ['Yes,', 'faith,', 'heartily.'],\n",
       " ['Hor.', \"There's\", 'no', 'offence,', 'my', 'lord.'],\n",
       " ['Ham.',\n",
       "  'Yes,',\n",
       "  'by',\n",
       "  'Saint',\n",
       "  'Patrick,',\n",
       "  'but',\n",
       "  'there',\n",
       "  'is,',\n",
       "  'Horatio,'],\n",
       " ['And', 'much', 'offence', 'too.', 'Touching', 'this', 'vision', 'here,'],\n",
       " ['It', 'is', 'an', 'honest', 'ghost,', 'that', 'let', 'me', 'tell', 'you.'],\n",
       " ['For', 'your', 'desire', 'to', 'know', 'what', 'is', 'between', 'us,'],\n",
       " [\"O'ermaster't\", 'as', 'you', 'may.', 'And', 'now,', 'good', 'friends,'],\n",
       " ['As', 'you', 'are', 'friends,', 'scholars,', 'and', 'soldiers,'],\n",
       " ['Give', 'me', 'one', 'poor', 'request.'],\n",
       " ['Hor.', 'What', \"is't,\", 'my', 'lord?', 'We', 'will.'],\n",
       " ['Ham.',\n",
       "  'Never',\n",
       "  'make',\n",
       "  'known',\n",
       "  'what',\n",
       "  'you',\n",
       "  'have',\n",
       "  'seen',\n",
       "  'to-night.'],\n",
       " ['Both.', 'My', 'lord,', 'we', 'will', 'not.'],\n",
       " ['Ham.', 'Nay,', 'but', \"swear't.\"],\n",
       " ['Hor.', 'In', 'faith,'],\n",
       " ['My', 'lord,', 'not', 'I.'],\n",
       " ['Mar.', 'Nor', 'I,', 'my', 'lord-', 'in', 'faith.'],\n",
       " ['Ham.', 'Upon', 'my', 'sword.'],\n",
       " ['Mar.', 'We', 'have', 'sworn,', 'my', 'lord,', 'already.'],\n",
       " ...]"
      ]
     },
     "execution_count": 71,
     "metadata": {},
     "output_type": "execute_result"
    }
   ],
   "source": [
    "temp "
   ]
  },
  {
   "cell_type": "code",
   "execution_count": 72,
   "metadata": {},
   "outputs": [],
   "source": [
    "hamletdata = spark.createDataFrame(temp)"
   ]
  },
  {
   "cell_type": "code",
   "execution_count": null,
   "metadata": {},
   "outputs": [],
   "source": [
    "hamletdata.printSchema"
   ]
  },
  {
   "cell_type": "code",
   "execution_count": null,
   "metadata": {},
   "outputs": [],
   "source": [
    "hamletdata.show()"
   ]
  },
  {
   "cell_type": "code",
   "execution_count": null,
   "metadata": {},
   "outputs": [],
   "source": []
  },
  {
   "cell_type": "code",
   "execution_count": null,
   "metadata": {},
   "outputs": [],
   "source": []
  },
  {
   "cell_type": "code",
   "execution_count": null,
   "metadata": {},
   "outputs": [],
   "source": []
  },
  {
   "cell_type": "code",
   "execution_count": null,
   "metadata": {},
   "outputs": [],
   "source": []
  },
  {
   "cell_type": "code",
   "execution_count": null,
   "metadata": {},
   "outputs": [],
   "source": []
  },
  {
   "cell_type": "code",
   "execution_count": null,
   "metadata": {},
   "outputs": [],
   "source": []
  },
  {
   "cell_type": "code",
   "execution_count": null,
   "metadata": {},
   "outputs": [],
   "source": []
  },
  {
   "cell_type": "code",
   "execution_count": null,
   "metadata": {},
   "outputs": [],
   "source": []
  },
  {
   "cell_type": "code",
   "execution_count": 73,
   "metadata": {},
   "outputs": [],
   "source": [
    "storydf = spark.read.text('hamlet.txt')"
   ]
  },
  {
   "cell_type": "code",
   "execution_count": 74,
   "metadata": {},
   "outputs": [
    {
     "name": "stdout",
     "output_type": "stream",
     "text": [
      "root\n",
      " |-- value: string (nullable = true)\n",
      "\n"
     ]
    }
   ],
   "source": [
    "storydf.printSchema()"
   ]
  },
  {
   "cell_type": "code",
   "execution_count": 75,
   "metadata": {},
   "outputs": [
    {
     "name": "stdout",
     "output_type": "stream",
     "text": [
      "+--------------------+\n",
      "|               value|\n",
      "+--------------------+\n",
      "|                    |\n",
      "|                1604|\n",
      "|                    |\n",
      "|                    |\n",
      "|THE TRAGEDY OF HA...|\n",
      "|                    |\n",
      "|                    |\n",
      "|by William Shakes...|\n",
      "|                    |\n",
      "|                    |\n",
      "+--------------------+\n",
      "only showing top 10 rows\n",
      "\n"
     ]
    }
   ],
   "source": [
    "storydf.show(10)"
   ]
  },
  {
   "cell_type": "code",
   "execution_count": null,
   "metadata": {},
   "outputs": [],
   "source": []
  },
  {
   "cell_type": "code",
   "execution_count": null,
   "metadata": {},
   "outputs": [],
   "source": []
  },
  {
   "cell_type": "code",
   "execution_count": null,
   "metadata": {},
   "outputs": [],
   "source": []
  },
  {
   "cell_type": "code",
   "execution_count": null,
   "metadata": {},
   "outputs": [],
   "source": []
  },
  {
   "cell_type": "code",
   "execution_count": null,
   "metadata": {},
   "outputs": [],
   "source": []
  },
  {
   "cell_type": "code",
   "execution_count": null,
   "metadata": {},
   "outputs": [],
   "source": []
  },
  {
   "cell_type": "code",
   "execution_count": null,
   "metadata": {},
   "outputs": [],
   "source": []
  }
 ],
 "metadata": {
  "kernelspec": {
   "display_name": "Python 3 (ipykernel)",
   "language": "python",
   "name": "python3"
  },
  "language_info": {
   "codemirror_mode": {
    "name": "ipython",
    "version": 3
   },
   "file_extension": ".py",
   "mimetype": "text/x-python",
   "name": "python",
   "nbconvert_exporter": "python",
   "pygments_lexer": "ipython3",
   "version": "3.12.3"
  },
  "toc": {
   "base_numbering": 1,
   "nav_menu": {},
   "number_sections": true,
   "sideBar": true,
   "skip_h1_title": false,
   "title_cell": "Table of Contents",
   "title_sidebar": "Contents",
   "toc_cell": false,
   "toc_position": {},
   "toc_section_display": true,
   "toc_window_display": false
  }
 },
 "nbformat": 4,
 "nbformat_minor": 4
}
